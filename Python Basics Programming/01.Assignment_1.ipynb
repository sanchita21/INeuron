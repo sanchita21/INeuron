{
 "cells": [
  {
   "cell_type": "code",
   "execution_count": 17,
   "id": "279603cc",
   "metadata": {},
   "outputs": [],
   "source": [
    "# 1. Write a Python program to print &quot;Hello Python&quot;?"
   ]
  },
  {
   "cell_type": "code",
   "execution_count": 15,
   "id": "83073a77",
   "metadata": {},
   "outputs": [],
   "source": [
    "def hello():\n",
    "    print(\"hello Python\")"
   ]
  },
  {
   "cell_type": "code",
   "execution_count": 16,
   "id": "9d0fe6b3",
   "metadata": {},
   "outputs": [
    {
     "name": "stdout",
     "output_type": "stream",
     "text": [
      "hello Python\n"
     ]
    }
   ],
   "source": [
    "hello()"
   ]
  },
  {
   "cell_type": "code",
   "execution_count": 18,
   "id": "5edd67b8",
   "metadata": {},
   "outputs": [],
   "source": [
    "# 2. Write a Python program to do arithmetical operations addition and division.?"
   ]
  },
  {
   "cell_type": "code",
   "execution_count": 39,
   "id": "98869989",
   "metadata": {},
   "outputs": [],
   "source": [
    "def add_divide():\n",
    "    a=int(input(\"enter num 1: \"))\n",
    "    b=int(input('enter num 2: '))\n",
    "    c=a+b\n",
    "    d=a/b\n",
    "    print(\"addition is: \",c,\"\\n\",\"Division is: \",d)\n",
    " \n",
    "\n"
   ]
  },
  {
   "cell_type": "code",
   "execution_count": 40,
   "id": "f72123ba",
   "metadata": {},
   "outputs": [
    {
     "name": "stdout",
     "output_type": "stream",
     "text": [
      "enter num 1: 10\n",
      "enter num 2: 5\n",
      "addition is:  15 \n",
      " Division is:  2.0\n"
     ]
    }
   ],
   "source": [
    "add_divide()"
   ]
  },
  {
   "cell_type": "code",
   "execution_count": 42,
   "id": "ba4d278c",
   "metadata": {},
   "outputs": [],
   "source": [
    "# 3. Write a Python program to find the area of a triangle?"
   ]
  },
  {
   "cell_type": "code",
   "execution_count": 47,
   "id": "17175a66",
   "metadata": {},
   "outputs": [],
   "source": [
    "def area_triangle():\n",
    "    a=int(input(\"enter the height: \"))\n",
    "    b=int(input(\"enter the breadth:\"))\n",
    "    c=1/2*a*b\n",
    "    print(\"The area is \",c)"
   ]
  },
  {
   "cell_type": "code",
   "execution_count": 48,
   "id": "4352b634",
   "metadata": {},
   "outputs": [
    {
     "name": "stdout",
     "output_type": "stream",
     "text": [
      "enter the height: 6\n",
      "enter the breadth:6\n",
      "The area is  18.0\n"
     ]
    }
   ],
   "source": [
    "area_triangle()"
   ]
  },
  {
   "cell_type": "code",
   "execution_count": 49,
   "id": "4a3f2236",
   "metadata": {},
   "outputs": [],
   "source": [
    "# 4. Write a Python program to swap two variables?"
   ]
  },
  {
   "cell_type": "code",
   "execution_count": 51,
   "id": "bf82725a",
   "metadata": {},
   "outputs": [],
   "source": [
    "def swap(a,b):\n",
    "    a,b=b,a\n",
    "    return a,b"
   ]
  },
  {
   "cell_type": "code",
   "execution_count": 52,
   "id": "17a455ab",
   "metadata": {},
   "outputs": [
    {
     "data": {
      "text/plain": [
       "(2, 1)"
      ]
     },
     "execution_count": 52,
     "metadata": {},
     "output_type": "execute_result"
    }
   ],
   "source": [
    "swap(1,2)"
   ]
  },
  {
   "cell_type": "code",
   "execution_count": 54,
   "id": "7523d4c0",
   "metadata": {},
   "outputs": [],
   "source": [
    "# 5. Write a Python program to generate a random number?"
   ]
  },
  {
   "cell_type": "code",
   "execution_count": 57,
   "id": "8d74cdf8",
   "metadata": {},
   "outputs": [],
   "source": [
    "import random"
   ]
  },
  {
   "cell_type": "code",
   "execution_count": 63,
   "id": "e8610d43",
   "metadata": {},
   "outputs": [
    {
     "data": {
      "text/plain": [
       "0.9178607810786714"
      ]
     },
     "execution_count": 63,
     "metadata": {},
     "output_type": "execute_result"
    }
   ],
   "source": [
    "random.random()"
   ]
  }
 ],
 "metadata": {
  "kernelspec": {
   "display_name": "Python 3 (ipykernel)",
   "language": "python",
   "name": "python3"
  },
  "language_info": {
   "codemirror_mode": {
    "name": "ipython",
    "version": 3
   },
   "file_extension": ".py",
   "mimetype": "text/x-python",
   "name": "python",
   "nbconvert_exporter": "python",
   "pygments_lexer": "ipython3",
   "version": "3.9.7"
  }
 },
 "nbformat": 4,
 "nbformat_minor": 5
}
