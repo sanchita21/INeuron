{
 "cells": [
  {
   "cell_type": "code",
   "execution_count": 1,
   "id": "9a389d6a",
   "metadata": {},
   "outputs": [],
   "source": [
    "# 1. To what does a relative path refer?"
   ]
  },
  {
   "cell_type": "code",
   "execution_count": 2,
   "id": "6a181671",
   "metadata": {},
   "outputs": [],
   "source": [
    "# # A relative path refers to a location that is relative to a current directory.\n",
    "# Relative paths make use of two special symbols, a dot (.) and a double-dot (..), which translate into the current directory\n",
    "# and the parent directory. Double dots are used for moving up in the hierarchy.\n",
    "# A single dot represents the current directory itself."
   ]
  },
  {
   "cell_type": "code",
   "execution_count": 3,
   "id": "bcdd9ff9",
   "metadata": {},
   "outputs": [],
   "source": [
    "# 2. What does an absolute path start with your operating system?"
   ]
  },
  {
   "cell_type": "code",
   "execution_count": 4,
   "id": "e2e37201",
   "metadata": {},
   "outputs": [],
   "source": [
    "# An absolute path refers to the complete details needed to locate a file or folder, \n",
    "# starting from the root element and ending with the other subdirectories. \n",
    "# Absolute paths are used  for locating files and folders."
   ]
  },
  {
   "cell_type": "code",
   "execution_count": 5,
   "id": "53d53630",
   "metadata": {},
   "outputs": [],
   "source": [
    "# 3. What do the functions os.getcwd() and os.chdir() do?"
   ]
  },
  {
   "cell_type": "code",
   "execution_count": 6,
   "id": "d950c351",
   "metadata": {},
   "outputs": [],
   "source": [
    "import os"
   ]
  },
  {
   "cell_type": "code",
   "execution_count": 7,
   "id": "e4e519a5",
   "metadata": {},
   "outputs": [
    {
     "data": {
      "text/plain": [
       "'C:\\\\Users\\\\sanchita.deb\\\\Music\\\\INeuron\\\\Assignments\\\\Python Basics'"
      ]
     },
     "execution_count": 7,
     "metadata": {},
     "output_type": "execute_result"
    }
   ],
   "source": [
    "os.getcwd()\n",
    "\n",
    "# it gives u the current working directory"
   ]
  },
  {
   "cell_type": "code",
   "execution_count": 13,
   "id": "b5c748a5",
   "metadata": {},
   "outputs": [],
   "source": [
    "#os.chdir() is used to change the directory \n",
    "\n",
    "os.chdir('C:\\\\Users\\\\sanchita.deb\\\\Music\\\\INeuron\\\\logging')"
   ]
  },
  {
   "cell_type": "code",
   "execution_count": 14,
   "id": "18c02d28",
   "metadata": {},
   "outputs": [
    {
     "data": {
      "text/plain": [
       "'C:\\\\Users\\\\sanchita.deb\\\\Music\\\\INeuron\\\\logging'"
      ]
     },
     "execution_count": 14,
     "metadata": {},
     "output_type": "execute_result"
    }
   ],
   "source": [
    "os.getcwd()\n",
    "\n",
    "# new directory"
   ]
  },
  {
   "cell_type": "code",
   "execution_count": 15,
   "id": "3f2e680e",
   "metadata": {},
   "outputs": [],
   "source": [
    "# 4. What are the . and .. folders?"
   ]
  },
  {
   "cell_type": "code",
   "execution_count": 16,
   "id": "d52de3b6",
   "metadata": {},
   "outputs": [],
   "source": [
    " #Relative paths make use of two special symbols, a dot (.) and a double-dot (..), which translate into the current directory\n",
    "# and the parent directory.\n",
    "# Double dots are used for moving up in the hierarchy.\n",
    "# A single dot represents the current directory itself."
   ]
  },
  {
   "cell_type": "code",
   "execution_count": 17,
   "id": "0f22fdcc",
   "metadata": {},
   "outputs": [],
   "source": [
    "# 5. In C:\\bacon\\eggs\\spam.txt, which part is the dir name, and which part is the base name?"
   ]
  },
  {
   "cell_type": "code",
   "execution_count": 18,
   "id": "b453a621",
   "metadata": {},
   "outputs": [],
   "source": [
    "# C:\\bacon\\eggs is the dir name, while spam.txt is the base name."
   ]
  },
  {
   "cell_type": "code",
   "execution_count": 19,
   "id": "907a29f9",
   "metadata": {},
   "outputs": [],
   "source": [
    "# 6. What are the three “mode” arguments that can be passed to the open() function?"
   ]
  },
  {
   "cell_type": "code",
   "execution_count": 20,
   "id": "1793ae2a",
   "metadata": {},
   "outputs": [],
   "source": [
    "# The string 'r' for read mode, 'w' for write mode, and 'a' for append mode"
   ]
  },
  {
   "cell_type": "code",
   "execution_count": 21,
   "id": "378ba1ed",
   "metadata": {},
   "outputs": [],
   "source": [
    "# 7. What happens if an existing file is opened in write mode?"
   ]
  },
  {
   "cell_type": "code",
   "execution_count": 22,
   "id": "46a79f68",
   "metadata": {},
   "outputs": [],
   "source": [
    "# An existing file opened in write mode is erased and completely overwritten."
   ]
  },
  {
   "cell_type": "code",
   "execution_count": 23,
   "id": "cafff9e5",
   "metadata": {},
   "outputs": [],
   "source": [
    "# 8. How do you tell the difference between read() and readlines()?"
   ]
  },
  {
   "cell_type": "code",
   "execution_count": 24,
   "id": "27a778fa",
   "metadata": {},
   "outputs": [],
   "source": [
    "# # The read() method returns the file's entire contents as a single string value. \n",
    "# The readlines() method returns a list of strings, where each string is a line from the file's contents."
   ]
  },
  {
   "cell_type": "code",
   "execution_count": 25,
   "id": "fff30a23",
   "metadata": {},
   "outputs": [],
   "source": [
    "# 9. What data structure does a shelf value resemble?"
   ]
  },
  {
   "cell_type": "code",
   "execution_count": 26,
   "id": "c70054de",
   "metadata": {},
   "outputs": [],
   "source": [
    "# A shelf value resembles a dictionary value; it has keys and values, along with keys() and values()\n",
    "# methods that work similarly to the dictionary methods of the same names."
   ]
  },
  {
   "cell_type": "code",
   "execution_count": null,
   "id": "ed572caa",
   "metadata": {},
   "outputs": [],
   "source": []
  }
 ],
 "metadata": {
  "kernelspec": {
   "display_name": "Python 3 (ipykernel)",
   "language": "python",
   "name": "python3"
  },
  "language_info": {
   "codemirror_mode": {
    "name": "ipython",
    "version": 3
   },
   "file_extension": ".py",
   "mimetype": "text/x-python",
   "name": "python",
   "nbconvert_exporter": "python",
   "pygments_lexer": "ipython3",
   "version": "3.9.7"
  }
 },
 "nbformat": 4,
 "nbformat_minor": 5
}
