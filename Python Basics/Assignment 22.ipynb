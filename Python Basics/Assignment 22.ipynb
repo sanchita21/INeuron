{
 "cells": [
  {
   "cell_type": "code",
   "execution_count": 1,
   "id": "1fe1d64b",
   "metadata": {},
   "outputs": [],
   "source": [
    "# 1. What is the result of the code, and explain?\n",
    "\n",
    "\n",
    "# >>> X = 'iNeuron'\n",
    "# >>> def func():\n",
    "# print(X)\n",
    "\n",
    "\n",
    "# >>> func()\n"
   ]
  },
  {
   "cell_type": "code",
   "execution_count": 2,
   "id": "e2dc55bf",
   "metadata": {},
   "outputs": [],
   "source": [
    "\n",
    "X = 'iNeuron'\n",
    "def func():\n",
    "    print(X)\n",
    "# Explanation: Here in this code we are defining a variable x in which iNeuron string is stored and we are creating a \n",
    "# function called func and printing X .so whenever we will call the function func() it will print the string stored in X variable"
   ]
  },
  {
   "cell_type": "code",
   "execution_count": 3,
   "id": "bba41d9c",
   "metadata": {},
   "outputs": [
    {
     "name": "stdout",
     "output_type": "stream",
     "text": [
      "iNeuron\n"
     ]
    }
   ],
   "source": [
    "func()\n",
    "\n",
    "# calling the function we just created"
   ]
  },
  {
   "cell_type": "code",
   "execution_count": 4,
   "id": "3ce8aecf",
   "metadata": {},
   "outputs": [],
   "source": [
    "\n",
    "# 2. What is the result of the code, and explain?\n",
    "\n",
    "\n",
    "# >>> X = 'iNeuron'\n",
    "# >>> def func():\n",
    "# X = 'NI!'\n",
    "\n",
    "\n",
    "# >>> func()\n",
    "# >>> print(X)\n"
   ]
  },
  {
   "cell_type": "code",
   "execution_count": 19,
   "id": "b8d547a7",
   "metadata": {},
   "outputs": [
    {
     "name": "stdout",
     "output_type": "stream",
     "text": [
      "iNeuron\n"
     ]
    }
   ],
   "source": [
    "X = 'iNeuron'\n",
    "def func():\n",
    "    X = 'NI!'\n",
    "func()\n",
    "print(X)"
   ]
  },
  {
   "cell_type": "code",
   "execution_count": 20,
   "id": "0862d473",
   "metadata": {},
   "outputs": [],
   "source": [
    "# In this code we have x as gloabal as well as local variable. but in the local variable we aren't printing the variable. \n",
    "# so calling the func will not print anything while when we print X it will print the global variable iNeuron"
   ]
  },
  {
   "cell_type": "code",
   "execution_count": 21,
   "id": "2016f9f5",
   "metadata": {},
   "outputs": [],
   "source": [
    "# 3. What does this code print, and why?\n",
    "\n",
    "\n",
    "# >>> X = 'iNeuron'\n",
    "# >>> def func():\n",
    "# X = 'NI'\n",
    "# print(X)\n",
    "\n",
    "\n",
    "# >>> func()\n",
    "# >>> print(X)\n"
   ]
  },
  {
   "cell_type": "code",
   "execution_count": 24,
   "id": "8a1f5aec",
   "metadata": {},
   "outputs": [
    {
     "name": "stdout",
     "output_type": "stream",
     "text": [
      "NI\n",
      "iNeuron\n"
     ]
    }
   ],
   "source": [
    "\n",
    " X = 'iNeuron'\n",
    "def func():\n",
    "    X = 'NI'\n",
    "    print(X)\n",
    "\n",
    "\n",
    "func()\n",
    "print(X)"
   ]
  },
  {
   "cell_type": "code",
   "execution_count": 25,
   "id": "aae2d552",
   "metadata": {},
   "outputs": [],
   "source": [
    "# # This code will print first NI and then Ineuorn. As we are calling the func() which has a \n",
    "# local variable X and then we are printing X which is global variable"
   ]
  },
  {
   "cell_type": "code",
   "execution_count": 26,
   "id": "1bfd8679",
   "metadata": {},
   "outputs": [],
   "source": [
    "\n",
    "# 4. What output does this code produce? Why?\n",
    "\n",
    "\n",
    "# >>> X = 'iNeuron'\n",
    "# >>> def func():\n",
    "# global X\n",
    "# X = 'NI'\n",
    "\n",
    "\n",
    "# >>> func()\n",
    "# >>> print(X)\n"
   ]
  },
  {
   "cell_type": "code",
   "execution_count": 28,
   "id": "4669af9f",
   "metadata": {},
   "outputs": [
    {
     "name": "stdout",
     "output_type": "stream",
     "text": [
      "NI\n"
     ]
    }
   ],
   "source": [
    "\n",
    "X = 'iNeuron'\n",
    "def func():\n",
    "    global X\n",
    "    X = 'NI'\n",
    "    \n",
    "func()\n",
    "print(X)"
   ]
  },
  {
   "cell_type": "code",
   "execution_count": 29,
   "id": "47f0cf47",
   "metadata": {},
   "outputs": [],
   "source": [
    "# The output of the code is NI. the global keyword allows a variable to be accessible in the current scope. \n",
    "# since we are using global keyword inside the function func it directly access the variable in X in global scope. \n",
    "# and changes its value to NI. hence the output of the code is NI"
   ]
  },
  {
   "cell_type": "code",
   "execution_count": 31,
   "id": "1af9cf92",
   "metadata": {},
   "outputs": [],
   "source": [
    "\n",
    "# 5. What about this code—what’s the output, and why?\n",
    "\n",
    "\n",
    "# >>> X = 'iNeuron'\n",
    "# >>> def func():\n",
    "# X = 'NI'\n",
    "# def nested():\n",
    "# print(X)\n",
    "# nested()\n",
    "\n",
    "\n",
    "# >>> func()\n",
    "# >>> X\n"
   ]
  },
  {
   "cell_type": "code",
   "execution_count": 35,
   "id": "a8d96ef5",
   "metadata": {},
   "outputs": [
    {
     "name": "stdout",
     "output_type": "stream",
     "text": [
      "iNeuron\n"
     ]
    },
    {
     "data": {
      "text/plain": [
       "'iNeuron'"
      ]
     },
     "execution_count": 35,
     "metadata": {},
     "output_type": "execute_result"
    }
   ],
   "source": [
    "X = 'iNeuron'\n",
    "def func():\n",
    "    X = 'NI'\n",
    "def nested():\n",
    "    print(X)\n",
    "\n",
    "nested()\n",
    "func()\n",
    "X\n"
   ]
  },
  {
   "cell_type": "code",
   "execution_count": 37,
   "id": "25f40e00",
   "metadata": {},
   "outputs": [],
   "source": [
    "# In this code Nested will be printed when we call the nested() and again iNeuron will be printed when call X variable.\n",
    "# since we aren't printing anything in the func() so it will just be called without peinting anything"
   ]
  },
  {
   "cell_type": "code",
   "execution_count": 38,
   "id": "b66c2526",
   "metadata": {},
   "outputs": [],
   "source": [
    "# 6. How about this code: what is its output in Python 3, and explain?\n",
    "\n",
    "\n",
    "# >>> def func():\n",
    "# X = 'NI'\n",
    "# def nested():\n",
    "# nonlocal X\n",
    "# X = 'Spam'\n",
    "# nested()\n",
    "# print(X)\n",
    "\n",
    "\n",
    "# >>> func()\n",
    "\n"
   ]
  },
  {
   "cell_type": "code",
   "execution_count": 42,
   "id": "8d4d7845",
   "metadata": {},
   "outputs": [
    {
     "name": "stdout",
     "output_type": "stream",
     "text": [
      "Spam\n"
     ]
    }
   ],
   "source": [
    "def func():\n",
    "    X = 'NI'\n",
    "    def nested():\n",
    "        nonlocal X\n",
    "        X = 'Spam'\n",
    "    nested()\n",
    "    print(X)\n",
    "func()"
   ]
  },
  {
   "cell_type": "code",
   "execution_count": 43,
   "id": "1455272d",
   "metadata": {},
   "outputs": [],
   "source": [
    "# The output of the code is Spam. nonlocal keyword in python is used to declare a variable as not local.\n",
    "# Hence the statement X = \"Spam\" is modified is modified in the global scope. hence the output of print(X) statement is Spam\"\n"
   ]
  }
 ],
 "metadata": {
  "kernelspec": {
   "display_name": "Python 3 (ipykernel)",
   "language": "python",
   "name": "python3"
  },
  "language_info": {
   "codemirror_mode": {
    "name": "ipython",
    "version": 3
   },
   "file_extension": ".py",
   "mimetype": "text/x-python",
   "name": "python",
   "nbconvert_exporter": "python",
   "pygments_lexer": "ipython3",
   "version": "3.9.7"
  }
 },
 "nbformat": 4,
 "nbformat_minor": 5
}
