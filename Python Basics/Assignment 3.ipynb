{
 "cells": [
  {
   "cell_type": "code",
   "execution_count": 1,
   "id": "0c9f73d4",
   "metadata": {},
   "outputs": [],
   "source": [
    "# 1. Why are functions advantageous to have in your programs?"
   ]
  },
  {
   "cell_type": "code",
   "execution_count": 2,
   "id": "ab216bc3",
   "metadata": {},
   "outputs": [],
   "source": [
    "# functions helps with reducing the code as you can just use  the function instead of writing the whole code for the same calculation"
   ]
  },
  {
   "cell_type": "code",
   "execution_count": 4,
   "id": "ffd2c595",
   "metadata": {},
   "outputs": [],
   "source": [
    "#2. When does the code in a function run: when it's specified or when it's called?"
   ]
  },
  {
   "cell_type": "code",
   "execution_count": 5,
   "id": "2129325e",
   "metadata": {},
   "outputs": [],
   "source": [
    "# when it is called"
   ]
  },
  {
   "cell_type": "code",
   "execution_count": 6,
   "id": "ec69e168",
   "metadata": {},
   "outputs": [],
   "source": [
    "# 3. What statement creates a function?"
   ]
  },
  {
   "cell_type": "code",
   "execution_count": 7,
   "id": "9e6afcca",
   "metadata": {},
   "outputs": [],
   "source": [
    "# def creates a function"
   ]
  },
  {
   "cell_type": "code",
   "execution_count": 11,
   "id": "f47f0751",
   "metadata": {},
   "outputs": [],
   "source": [
    "def hello():\n",
    "    print(\"Hello world\")  \n",
    "    \n",
    "# Creating a function hello which will print hello world    "
   ]
  },
  {
   "cell_type": "code",
   "execution_count": 10,
   "id": "ee21f68a",
   "metadata": {},
   "outputs": [
    {
     "name": "stdout",
     "output_type": "stream",
     "text": [
      "Hello world\n"
     ]
    }
   ],
   "source": [
    "hello()\n",
    "\n",
    "# calling the function hello "
   ]
  },
  {
   "cell_type": "code",
   "execution_count": 12,
   "id": "1a8d88f4",
   "metadata": {},
   "outputs": [],
   "source": [
    "# 4. What is the difference between a function and a function call?"
   ]
  },
  {
   "cell_type": "code",
   "execution_count": 20,
   "id": "73309230",
   "metadata": {},
   "outputs": [],
   "source": [
    "#A function is a block of code that does a particular operation and returns a result. It usually accepts inputs as parameters and returns a result. The parameters are not mandatory.\n",
    "\n",
    "\n",
    "def add(a,b):\n",
    "    return a+ b"
   ]
  },
  {
   "cell_type": "code",
   "execution_count": 21,
   "id": "52aae7f5",
   "metadata": {},
   "outputs": [],
   "source": [
    "\n",
    "#A function call is the code used to pass control to a function.\n",
    "\n",
    "b = add(5,6)\n",
    "\n",
    "#Now b will have the value 11."
   ]
  },
  {
   "cell_type": "code",
   "execution_count": 22,
   "id": "b9e5bd72",
   "metadata": {},
   "outputs": [
    {
     "data": {
      "text/plain": [
       "11"
      ]
     },
     "execution_count": 22,
     "metadata": {},
     "output_type": "execute_result"
    }
   ],
   "source": [
    "b"
   ]
  },
  {
   "cell_type": "code",
   "execution_count": 23,
   "id": "af2f2ddb",
   "metadata": {},
   "outputs": [],
   "source": [
    "# 5. How many global scopes are there in a Python program? How many local scopes?"
   ]
  },
  {
   "cell_type": "code",
   "execution_count": 24,
   "id": "9945fffb",
   "metadata": {},
   "outputs": [],
   "source": [
    "# # There is one global scope in a python programme\n",
    "# the names that we define in global scope will be available in all our codes"
   ]
  },
  {
   "cell_type": "code",
   "execution_count": 25,
   "id": "7ad30c9c",
   "metadata": {},
   "outputs": [],
   "source": [
    "# 6. What happens to variables in a local scope when the function call returns?"
   ]
  },
  {
   "cell_type": "code",
   "execution_count": 1,
   "id": "eb5f5d60",
   "metadata": {},
   "outputs": [],
   "source": [
    "# # A local variable retains its value until the next time the function is called .\n",
    "# A local variable becomes undefined after the function call completes \n",
    "# The local variable can be used outside the function any time after the function call completes"
   ]
  },
  {
   "cell_type": "code",
   "execution_count": 2,
   "id": "6f9b124b",
   "metadata": {},
   "outputs": [],
   "source": [
    "# 7. What is the concept of a return value? Is it possible to have a return value in an expression?\n"
   ]
  },
  {
   "cell_type": "code",
   "execution_count": 3,
   "id": "9b611269",
   "metadata": {},
   "outputs": [],
   "source": [
    "# A return value returns a value which gets returned which a function returns whenever it is called nd completes a task"
   ]
  },
  {
   "cell_type": "code",
   "execution_count": 4,
   "id": "aec3ab4f",
   "metadata": {},
   "outputs": [],
   "source": [
    "# 8. If a function does not have a return statement, what is the return value of a call to that function?\n"
   ]
  },
  {
   "cell_type": "code",
   "execution_count": 5,
   "id": "057f2384",
   "metadata": {},
   "outputs": [],
   "source": [
    "# if no return is passed then the control will go to the calling function automatically and it will throw up None"
   ]
  },
  {
   "cell_type": "code",
   "execution_count": 6,
   "id": "9ed77130",
   "metadata": {},
   "outputs": [],
   "source": [
    "# 9. How do you make a function variable refer to the global variable?\n"
   ]
  },
  {
   "cell_type": "code",
   "execution_count": 8,
   "id": "4fa3315d",
   "metadata": {},
   "outputs": [],
   "source": [
    "# we can use global keyword along with the variable name to refer to the global variable"
   ]
  },
  {
   "cell_type": "code",
   "execution_count": 9,
   "id": "9a87ba48",
   "metadata": {},
   "outputs": [],
   "source": [
    "# 10. What is the data type of None?\n"
   ]
  },
  {
   "cell_type": "code",
   "execution_count": 12,
   "id": "8c86e236",
   "metadata": {},
   "outputs": [],
   "source": [
    "# None has its own data type NONE type and only none can be of none data type"
   ]
  },
  {
   "cell_type": "code",
   "execution_count": 13,
   "id": "7bd39aef",
   "metadata": {},
   "outputs": [],
   "source": [
    "# 11. What does the sentence import areallyourpetsnamederic do?\n"
   ]
  },
  {
   "cell_type": "code",
   "execution_count": 14,
   "id": "2911dd15",
   "metadata": {},
   "outputs": [
    {
     "ename": "ModuleNotFoundError",
     "evalue": "No module named 'areallyourpetsnamederic'",
     "output_type": "error",
     "traceback": [
      "\u001b[1;31m---------------------------------------------------------------------------\u001b[0m",
      "\u001b[1;31mModuleNotFoundError\u001b[0m                       Traceback (most recent call last)",
      "\u001b[1;32m~\\AppData\\Local\\Temp/ipykernel_23432/51184242.py\u001b[0m in \u001b[0;36m<module>\u001b[1;34m\u001b[0m\n\u001b[1;32m----> 1\u001b[1;33m \u001b[1;32mimport\u001b[0m \u001b[0mareallyourpetsnamederic\u001b[0m\u001b[1;33m\u001b[0m\u001b[1;33m\u001b[0m\u001b[0m\n\u001b[0m",
      "\u001b[1;31mModuleNotFoundError\u001b[0m: No module named 'areallyourpetsnamederic'"
     ]
    }
   ],
   "source": [
    "import areallyourpetsnamederic"
   ]
  },
  {
   "cell_type": "code",
   "execution_count": 15,
   "id": "075a5317",
   "metadata": {},
   "outputs": [],
   "source": [
    "# As the result shows, there is no modele named this"
   ]
  },
  {
   "cell_type": "code",
   "execution_count": 16,
   "id": "cd12c8d3",
   "metadata": {},
   "outputs": [],
   "source": [
    "# 12. If you had a bacon() feature in a spam module, what would you call it after importing spam?\n"
   ]
  },
  {
   "cell_type": "code",
   "execution_count": 17,
   "id": "2d738bd1",
   "metadata": {},
   "outputs": [],
   "source": [
    "# it will be called by spam.bacon()"
   ]
  },
  {
   "cell_type": "code",
   "execution_count": 18,
   "id": "83e1f4d1",
   "metadata": {},
   "outputs": [],
   "source": [
    "# 13. What can you do to save a programme from crashing if it encounters an error?\n"
   ]
  },
  {
   "cell_type": "code",
   "execution_count": 19,
   "id": "4807b715",
   "metadata": {},
   "outputs": [],
   "source": [
    "# Try and except can help the programme from crashing "
   ]
  },
  {
   "cell_type": "code",
   "execution_count": 20,
   "id": "2583e220",
   "metadata": {},
   "outputs": [],
   "source": [
    "# 14. What is the purpose of the try clause? What is the purpose of the except clause?\n"
   ]
  },
  {
   "cell_type": "code",
   "execution_count": 21,
   "id": "a04bc35f",
   "metadata": {},
   "outputs": [],
   "source": [
    "# The try block is used to check some code for errors i.e the code inside the try block will execute when there is no error in the program. \n",
    "# Whereas the code inside the except block will execute whenever the program encounters some error in the previous try"
   ]
  },
  {
   "cell_type": "code",
   "execution_count": null,
   "id": "1917ec92",
   "metadata": {},
   "outputs": [],
   "source": []
  }
 ],
 "metadata": {
  "kernelspec": {
   "display_name": "Python 3 (ipykernel)",
   "language": "python",
   "name": "python3"
  },
  "language_info": {
   "codemirror_mode": {
    "name": "ipython",
    "version": 3
   },
   "file_extension": ".py",
   "mimetype": "text/x-python",
   "name": "python",
   "nbconvert_exporter": "python",
   "pygments_lexer": "ipython3",
   "version": "3.9.7"
  }
 },
 "nbformat": 4,
 "nbformat_minor": 5
}
