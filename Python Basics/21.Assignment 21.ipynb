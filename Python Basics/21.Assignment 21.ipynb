{
 "cells": [
  {
   "cell_type": "code",
   "execution_count": 2,
   "id": "c9e57895",
   "metadata": {},
   "outputs": [],
   "source": [
    "# 1. Add the current date to the text file today.txt as a string."
   ]
  },
  {
   "cell_type": "code",
   "execution_count": 1,
   "id": "6c569ea4",
   "metadata": {},
   "outputs": [],
   "source": [
    "f=open('testineuron.txt',\"w\")"
   ]
  },
  {
   "cell_type": "code",
   "execution_count": 23,
   "id": "9afe8eaa",
   "metadata": {},
   "outputs": [],
   "source": [
    "from datetime import date\n",
    "today_date= date.today()"
   ]
  },
  {
   "cell_type": "code",
   "execution_count": 25,
   "id": "1a1de740",
   "metadata": {},
   "outputs": [],
   "source": [
    "f.write(str(today_date))\n",
    "# writing today's date in the file and closing it\n",
    "f.close()"
   ]
  },
  {
   "cell_type": "code",
   "execution_count": 30,
   "id": "675fe28e",
   "metadata": {},
   "outputs": [],
   "source": [
    "# 2. Read the text file today.txt into the string today_string\n"
   ]
  },
  {
   "cell_type": "code",
   "execution_count": 51,
   "id": "a5bba22e",
   "metadata": {},
   "outputs": [
    {
     "name": "stdout",
     "output_type": "stream",
     "text": [
      "2022-06-26\n"
     ]
    }
   ],
   "source": [
    "file = open('testineuron.txt','r')\n",
    "today_string = file.read()\n",
    "print(today_string)"
   ]
  },
  {
   "cell_type": "code",
   "execution_count": 42,
   "id": "301a3506",
   "metadata": {},
   "outputs": [],
   "source": [
    "# 3. Parse the date from today_string.\n"
   ]
  },
  {
   "cell_type": "code",
   "execution_count": 56,
   "id": "9904cb0f",
   "metadata": {},
   "outputs": [
    {
     "name": "stdout",
     "output_type": "stream",
     "text": [
      "2022-06-26 00:00:00\n"
     ]
    }
   ],
   "source": [
    "from datetime import datetime\n",
    "parsed_data=datetime.strptime(today_string,'%Y-%m-%d')\n",
    "print(parsed_data)"
   ]
  },
  {
   "cell_type": "code",
   "execution_count": 57,
   "id": "bf2625d1",
   "metadata": {},
   "outputs": [],
   "source": [
    "# 4. List the files in your current directory\n"
   ]
  },
  {
   "cell_type": "code",
   "execution_count": 61,
   "id": "ffaf10d8",
   "metadata": {},
   "outputs": [],
   "source": [
    "import os"
   ]
  },
  {
   "cell_type": "code",
   "execution_count": 64,
   "id": "9233af8e",
   "metadata": {},
   "outputs": [
    {
     "data": {
      "text/plain": [
       "'C:\\\\Users\\\\sanchita.deb\\\\Music\\\\INeuron\\\\Assignments\\\\Python Basics'"
      ]
     },
     "execution_count": 64,
     "metadata": {},
     "output_type": "execute_result"
    }
   ],
   "source": [
    "os.getcwd()"
   ]
  },
  {
   "cell_type": "code",
   "execution_count": 65,
   "id": "751e373a",
   "metadata": {},
   "outputs": [
    {
     "data": {
      "text/plain": [
       "['.ipynb_checkpoints',\n",
       " 'Assigmnent  11.ipynb',\n",
       " 'Assignment 1.ipynb',\n",
       " 'Assignment 10.ipynb',\n",
       " 'Assignment 12.ipynb',\n",
       " 'Assignment 13.ipynb',\n",
       " 'Assignment 14.ipynb',\n",
       " 'Assignment 15.ipynb',\n",
       " 'Assignment 16.ipynb',\n",
       " 'Assignment 17.ipynb',\n",
       " 'Assignment 2.ipynb',\n",
       " 'Assignment 21.ipynb',\n",
       " 'Assignment 3.ipynb',\n",
       " 'Assignment 4.ipynb',\n",
       " 'Assignment 5.ipynb',\n",
       " 'Assignment 6.ipynb',\n",
       " 'Assignment 7.ipynb',\n",
       " 'Assignment 8.ipynb',\n",
       " 'Assignment 9.ipynb',\n",
       " 'Assignmnet 18.ipynb',\n",
       " 'book.avif',\n",
       " 'cropped.png',\n",
       " 'croppedIm.png',\n",
       " 'file.csv',\n",
       " 'myimage.jpg',\n",
       " 'new_filename.png',\n",
       " 'pycharm-community-2022.1.2.exe',\n",
       " 'schoolrecords.csv',\n",
       " 'test1ineuron.txt',\n",
       " 'testineuron.txt',\n",
       " 'zoo.py',\n",
       " 'zophie.png',\n",
       " '__pycache__']"
      ]
     },
     "execution_count": 65,
     "metadata": {},
     "output_type": "execute_result"
    }
   ],
   "source": [
    "os.listdir('C:\\\\Users\\\\sanchita.deb\\\\Music\\\\INeuron\\\\Assignments\\\\Python Basics')"
   ]
  },
  {
   "cell_type": "code",
   "execution_count": 66,
   "id": "eb391942",
   "metadata": {},
   "outputs": [],
   "source": [
    "# 5. Create a list of all of the files in your parent directory (minimum five files should be available).\n"
   ]
  },
  {
   "cell_type": "code",
   "execution_count": 76,
   "id": "fbd6b6d0",
   "metadata": {},
   "outputs": [
    {
     "data": {
      "text/plain": [
       "['.ipynb_checkpoints',\n",
       " '11th June - 11th Live Class.ipynb',\n",
       " '14th May - 3rd Live Class.ipynb',\n",
       " '15th May - 4th Live Class.ipynb',\n",
       " '18th June - 12th Live Class.ipynb',\n",
       " '19th June - 13th Live Class.ipynb',\n",
       " '21st May- 5th Live Class.ipynb',\n",
       " '22nd May - 6th Live Class.ipynb',\n",
       " '28th May - 7th Live Class.ipynb',\n",
       " '29th May - 8th Live Class.ipynb',\n",
       " '5th June - 10th Live Class.ipynb',\n",
       " 'Assignment 7.ipynb',\n",
       " 'Assignments',\n",
       " 'automate2e_SampleCh7.pdf',\n",
       " 'Automate_the_Boring_Stuff_2e_onlinematerials',\n",
       " 'Automate_the_Boring_Stuff_2e_onlinematerials.zip',\n",
       " 'Become_a_Data_Scientist_in_2021_with_these_10_resources___by_Rahul_Agarwal___Towards_Data_Science.pdf',\n",
       " 'blankPDF.pdf',\n",
       " 'logging',\n",
       " 'Logging & Debugging.ipynb',\n",
       " 'PyPDF2 Library.ipynb',\n",
       " 'Python - Working with Loops.ipynb',\n",
       " 'Revision and task solving (1).ipynb',\n",
       " 'test.txt',\n",
       " 'test1.txt',\n",
       " 'test2.log',\n",
       " 'test2.txt',\n",
       " 'test5.txt',\n",
       " 'test7.txt',\n",
       " 'while loop and basic of function .ipynb']"
      ]
     },
     "execution_count": 76,
     "metadata": {},
     "output_type": "execute_result"
    }
   ],
   "source": [
    "os.listdir('C:\\\\Users\\\\sanchita.deb\\\\Music\\\\INeuron')"
   ]
  },
  {
   "cell_type": "code",
   "execution_count": 77,
   "id": "69d1bce2",
   "metadata": {},
   "outputs": [],
   "source": [
    "# # 6. Use multiprocessing to create three separate processes. \n",
    "# Make each one wait a random number of seconds between one and five, print the current time, and then exit.\n"
   ]
  },
  {
   "cell_type": "code",
   "execution_count": null,
   "id": "a96116ae",
   "metadata": {},
   "outputs": [],
   "source": []
  }
 ],
 "metadata": {
  "kernelspec": {
   "display_name": "Python 3 (ipykernel)",
   "language": "python",
   "name": "python3"
  },
  "language_info": {
   "codemirror_mode": {
    "name": "ipython",
    "version": 3
   },
   "file_extension": ".py",
   "mimetype": "text/x-python",
   "name": "python",
   "nbconvert_exporter": "python",
   "pygments_lexer": "ipython3",
   "version": "3.9.7"
  }
 },
 "nbformat": 4,
 "nbformat_minor": 5
}
