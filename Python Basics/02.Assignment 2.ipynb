{
 "cells": [
  {
   "cell_type": "code",
   "execution_count": 1,
   "id": "c7b418d8",
   "metadata": {},
   "outputs": [],
   "source": [
    "# 1.What are the two values of the Boolean data type? How do you write them?"
   ]
  },
  {
   "cell_type": "code",
   "execution_count": 2,
   "id": "04a7b388",
   "metadata": {},
   "outputs": [],
   "source": [
    "True, False"
   ]
  },
  {
   "cell_type": "code",
   "execution_count": 3,
   "id": "7b96f73d",
   "metadata": {},
   "outputs": [],
   "source": [
    "type(True)"
   ]
  },
  {
   "cell_type": "code",
   "execution_count": 4,
   "id": "d014b5a4",
   "metadata": {},
   "outputs": [],
   "source": [
    "type(False)"
   ]
  },
  {
   "cell_type": "code",
   "execution_count": 5,
   "id": "72ab508f",
   "metadata": {},
   "outputs": [],
   "source": [
    "# 2. What are the three different types of Boolean operators?"
   ]
  },
  {
   "cell_type": "code",
   "execution_count": 6,
   "id": "6a345436",
   "metadata": {},
   "outputs": [],
   "source": [
    "# The three basic boolean operators are AND, OR and NOT"
   ]
  },
  {
   "cell_type": "code",
   "execution_count": 7,
   "id": "cc357ed3",
   "metadata": {},
   "outputs": [],
   "source": [
    "# 3. Make a list of each Boolean operator's truth tables (i.e. every possible combination of Boolean\n",
    "# values for the operator and what it evaluate )."
   ]
  },
  {
   "cell_type": "code",
   "execution_count": 8,
   "id": "1eefdabc",
   "metadata": {},
   "outputs": [],
   "source": [
    "# there are 3 boolean operators AND , OR and NO\n",
    "# let's look at there posssible combinations\n"
   ]
  },
  {
   "attachments": {
    "Screenshot%202022-05-28%20115502.png": {
     "image/png": "[encoded data removed]"
    }
   },
   "cell_type": "markdown",
   "id": "7e7851d2",
   "metadata": {},
   "source": [
    "\n",
    "![Screenshot%202022-05-28%20115502.png](attachment:Screenshot%202022-05-28%20115502.png)"
   ]
  },
  {
   "cell_type": "code",
   "execution_count": 9,
   "id": "b55e1a65",
   "metadata": {},
   "outputs": [],
   "source": [
    "# 4. What are the values of the following expressions?\n",
    "# (5 > 4) and (3 == 5)\n",
    "# not (5 > 4)\n",
    "# (5 > 4) or (3 == 5)\n",
    "# not ((5 > 4) or (3 == 5))\n",
    "# (True and True) and (True == False)\n",
    "# (not False) or (not True)"
   ]
  },
  {
   "cell_type": "code",
   "execution_count": 10,
   "id": "f4c8a729",
   "metadata": {},
   "outputs": [
    {
     "data": {
      "text/plain": [
       "False"
      ]
     },
     "execution_count": 10,
     "metadata": {},
     "output_type": "execute_result"
    }
   ],
   "source": [
    "(5 > 4) and (3 == 5)"
   ]
  },
  {
   "cell_type": "code",
   "execution_count": 11,
   "id": "db4be3d8",
   "metadata": {},
   "outputs": [
    {
     "data": {
      "text/plain": [
       "False"
      ]
     },
     "execution_count": 11,
     "metadata": {},
     "output_type": "execute_result"
    }
   ],
   "source": [
    "not (5 > 4)"
   ]
  },
  {
   "cell_type": "code",
   "execution_count": 12,
   "id": "d68cbe51",
   "metadata": {},
   "outputs": [
    {
     "data": {
      "text/plain": [
       "True"
      ]
     },
     "execution_count": 12,
     "metadata": {},
     "output_type": "execute_result"
    }
   ],
   "source": [
    "(5 > 4) or (3 == 5)"
   ]
  },
  {
   "cell_type": "code",
   "execution_count": 13,
   "id": "c81add41",
   "metadata": {},
   "outputs": [
    {
     "data": {
      "text/plain": [
       "False"
      ]
     },
     "execution_count": 13,
     "metadata": {},
     "output_type": "execute_result"
    }
   ],
   "source": [
    "not ((5 > 4) or (3 == 5))"
   ]
  },
  {
   "cell_type": "code",
   "execution_count": 14,
   "id": "9dfb10eb",
   "metadata": {},
   "outputs": [
    {
     "data": {
      "text/plain": [
       "False"
      ]
     },
     "execution_count": 14,
     "metadata": {},
     "output_type": "execute_result"
    }
   ],
   "source": [
    "(True and True) and (True == False)"
   ]
  },
  {
   "cell_type": "code",
   "execution_count": 15,
   "id": "451bad24",
   "metadata": {},
   "outputs": [
    {
     "data": {
      "text/plain": [
       "True"
      ]
     },
     "execution_count": 15,
     "metadata": {},
     "output_type": "execute_result"
    }
   ],
   "source": [
    "(not False) or (not True)"
   ]
  },
  {
   "cell_type": "code",
   "execution_count": 16,
   "id": "2e2240eb",
   "metadata": {},
   "outputs": [],
   "source": [
    "# 5. What are the six comparison operators?"
   ]
  },
  {
   "cell_type": "code",
   "execution_count": 17,
   "id": "c68487a9",
   "metadata": {},
   "outputs": [],
   "source": [
    "# six comparison operators are :\n",
    "#     >\n",
    "#     <\n",
    "#     >=\n",
    "#     <=\n",
    "#     ==\n",
    "#     !=\n",
    "    "
   ]
  },
  {
   "cell_type": "code",
   "execution_count": 18,
   "id": "3d26ae6c",
   "metadata": {},
   "outputs": [],
   "source": [
    "# 6. How do you tell the difference between the equal to and assignment operators?Describe a\n",
    "# condition and when you would use one."
   ]
  },
  {
   "cell_type": "code",
   "execution_count": 19,
   "id": "53d24ff0",
   "metadata": {},
   "outputs": [],
   "source": [
    "# = is called as assignment operator and is  used to assign a value to any variable, whereas == is the equality \n",
    "# comparison operator & is ued to check if the value is equal or not"
   ]
  },
  {
   "cell_type": "code",
   "execution_count": 20,
   "id": "54dee838",
   "metadata": {},
   "outputs": [],
   "source": [
    "a=1\n",
    "b=2\n",
    "# the = here is used as a assignemnt operator"
   ]
  },
  {
   "cell_type": "code",
   "execution_count": 21,
   "id": "ee8f114e",
   "metadata": {},
   "outputs": [
    {
     "data": {
      "text/plain": [
       "False"
      ]
     },
     "execution_count": 21,
     "metadata": {},
     "output_type": "execute_result"
    }
   ],
   "source": [
    "a==b\n",
    "# the == here is used as a equality comparison operator"
   ]
  },
  {
   "cell_type": "code",
   "execution_count": 22,
   "id": "67988efd",
   "metadata": {},
   "outputs": [],
   "source": [
    "# 7. Identify the three blocks in this code:\n",
    "# spam = 0\n",
    "# if spam == 10:\n",
    "# print('eggs')\n",
    "# if spam > 5:\n",
    "# print('bacon')\n",
    "# else:\n",
    "# print('ham')\n",
    "# print('spam')\n",
    "# print('spam')\n"
   ]
  },
  {
   "cell_type": "code",
   "execution_count": 23,
   "id": "9fccbc2f",
   "metadata": {},
   "outputs": [
    {
     "name": "stdout",
     "output_type": "stream",
     "text": [
      "ham\n",
      "spam\n",
      "spam\n"
     ]
    }
   ],
   "source": [
    "spam = 0\n",
    "if spam == 10:\n",
    "    print('eggs')\n",
    "if spam > 5:\n",
    "    print('bacon')\n",
    "else:\n",
    "    print('ham')\n",
    "    print('spam')\n",
    "    print('spam')\n"
   ]
  },
  {
   "cell_type": "code",
   "execution_count": 24,
   "id": "5649ef88",
   "metadata": {},
   "outputs": [],
   "source": [
    "# 8. Write code that prints Hello if 1 is stored in spam, prints Howdy if 2 is stored in spam,\n",
    "# and prints Greetings! if anything else is stored in spam.\n",
    "\n"
   ]
  },
  {
   "cell_type": "code",
   "execution_count": 25,
   "id": "f4ee74c2",
   "metadata": {},
   "outputs": [
    {
     "name": "stdout",
     "output_type": "stream",
     "text": [
      "Greetings\n"
     ]
    }
   ],
   "source": [
    "spam = 6\n",
    "if spam==1:\n",
    "    print(\"Hello\")\n",
    "elif spam==2:\n",
    "    print(\"Howdy\")\n",
    "else:\n",
    "    print(\"Greetings\")"
   ]
  },
  {
   "cell_type": "code",
   "execution_count": 26,
   "id": "7aa2026e",
   "metadata": {},
   "outputs": [],
   "source": [
    "# 9.If your programme is stuck in an endless loop, what keys you’ll press?\n"
   ]
  },
  {
   "cell_type": "code",
   "execution_count": 27,
   "id": "206f51d2",
   "metadata": {},
   "outputs": [],
   "source": [
    "# control+c"
   ]
  },
  {
   "cell_type": "code",
   "execution_count": 28,
   "id": "35fc31b7",
   "metadata": {},
   "outputs": [],
   "source": [
    "# 10. How can you tell the difference between break and continue?\n"
   ]
  },
  {
   "cell_type": "code",
   "execution_count": 29,
   "id": "db9102bf",
   "metadata": {},
   "outputs": [],
   "source": [
    "# Break statement will stop the execution of the current loop and passes the control to the \n",
    "# next statement or the main body of the programme while continue statement skips the current iteration and\n",
    "# passes to the next iteration in the loop"
   ]
  },
  {
   "cell_type": "code",
   "execution_count": 30,
   "id": "0fc9bb9e",
   "metadata": {},
   "outputs": [],
   "source": [
    "# 11. In a for loop, what is the difference between range(10), range(0, 10), and range(0, 10, 1)?\n"
   ]
  },
  {
   "cell_type": "code",
   "execution_count": null,
   "id": "5934bfbd",
   "metadata": {},
   "outputs": [],
   "source": [
    "for i in range(10):\n",
    "    print(i)"
   ]
  },
  {
   "cell_type": "code",
   "execution_count": 1,
   "id": "c4d7273f",
   "metadata": {},
   "outputs": [
    {
     "name": "stdout",
     "output_type": "stream",
     "text": [
      "0\n",
      "1\n",
      "2\n",
      "3\n",
      "4\n",
      "5\n",
      "6\n",
      "7\n",
      "8\n",
      "9\n"
     ]
    }
   ],
   "source": [
    "for i in range(0,10):\n",
    "    print(i)"
   ]
  },
  {
   "cell_type": "code",
   "execution_count": 2,
   "id": "d9c4e3eb",
   "metadata": {},
   "outputs": [
    {
     "name": "stdout",
     "output_type": "stream",
     "text": [
      "0\n",
      "1\n",
      "2\n",
      "3\n",
      "4\n",
      "5\n",
      "6\n",
      "7\n",
      "8\n",
      "9\n"
     ]
    }
   ],
   "source": [
    "for i in range(0,10,1):\n",
    "    print(i)"
   ]
  },
  {
   "cell_type": "code",
   "execution_count": 34,
   "id": "23df1424",
   "metadata": {},
   "outputs": [],
   "source": [
    "# The range function returns a sequence of numbers between the given start integer to the stop integer.\n",
    "# range(stop)\n",
    "# range(start, stop[, step])\n",
    "\n",
    "# in the above programme the output is same as we have specified 10 as stop so it will start from 0 and go till 10, \n",
    "# and in the last one it will start from 0 go till 10 with a jump of 1 ."
   ]
  },
  {
   "cell_type": "code",
   "execution_count": 35,
   "id": "b0f7d9d6",
   "metadata": {},
   "outputs": [],
   "source": [
    "#12 Write a short program that prints the numbers 1 to 10 using a for loop.\n",
    "#Then write an equivalent program that prints the numbers 1 to 10 using a while loop.\n"
   ]
  },
  {
   "cell_type": "code",
   "execution_count": 4,
   "id": "c59e4fbe",
   "metadata": {},
   "outputs": [
    {
     "name": "stdout",
     "output_type": "stream",
     "text": [
      "1\n",
      "2\n",
      "3\n",
      "4\n",
      "5\n",
      "6\n",
      "7\n",
      "8\n",
      "9\n"
     ]
    }
   ],
   "source": [
    "for i in range(1,10):\n",
    "    print(i)"
   ]
  },
  {
   "cell_type": "code",
   "execution_count": 5,
   "id": "bcf48c77",
   "metadata": {},
   "outputs": [
    {
     "name": "stdout",
     "output_type": "stream",
     "text": [
      "1\n",
      "2\n",
      "3\n",
      "4\n",
      "5\n",
      "6\n",
      "7\n",
      "8\n",
      "9\n"
     ]
    }
   ],
   "source": [
    "i = 1\n",
    "while i < 10:\n",
    "    print(i)\n",
    "    i = i + 1\n"
   ]
  },
  {
   "cell_type": "code",
   "execution_count": 6,
   "id": "ac2e8b0b",
   "metadata": {},
   "outputs": [],
   "source": [
    "#13.. If you had a function named bacon() inside a module named spam, how would you call it after \n",
    "#importing spam?\n"
   ]
  },
  {
   "cell_type": "code",
   "execution_count": 7,
   "id": "d3aed9b4",
   "metadata": {},
   "outputs": [],
   "source": [
    "#This function can be called with spam.bacon()."
   ]
  }
 ],
 "metadata": {
  "kernelspec": {
   "display_name": "Python 3 (ipykernel)",
   "language": "python",
   "name": "python3"
  },
  "language_info": {
   "codemirror_mode": {
    "name": "ipython",
    "version": 3
   },
   "file_extension": ".py",
   "mimetype": "text/x-python",
   "name": "python",
   "nbconvert_exporter": "python",
   "pygments_lexer": "ipython3",
   "version": "3.9.7"
  }
 },
 "nbformat": 4,
 "nbformat_minor": 5
}
