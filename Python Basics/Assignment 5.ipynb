{
 "cells": [
  {
   "cell_type": "code",
   "execution_count": 1,
   "id": "13b72e02",
   "metadata": {},
   "outputs": [],
   "source": [
    "# 1. What does an empty dictionary's code look like?"
   ]
  },
  {
   "cell_type": "code",
   "execution_count": 2,
   "id": "dbe974d9",
   "metadata": {},
   "outputs": [],
   "source": [
    "l1={}"
   ]
  },
  {
   "cell_type": "code",
   "execution_count": 3,
   "id": "317f28b8",
   "metadata": {},
   "outputs": [
    {
     "data": {
      "text/plain": [
       "{}"
      ]
     },
     "execution_count": 3,
     "metadata": {},
     "output_type": "execute_result"
    }
   ],
   "source": [
    "l1"
   ]
  },
  {
   "cell_type": "code",
   "execution_count": 4,
   "id": "8d88fe8f",
   "metadata": {},
   "outputs": [
    {
     "data": {
      "text/plain": [
       "dict"
      ]
     },
     "execution_count": 4,
     "metadata": {},
     "output_type": "execute_result"
    }
   ],
   "source": [
    "type(l1)"
   ]
  },
  {
   "cell_type": "code",
   "execution_count": 6,
   "id": "4bce03da",
   "metadata": {},
   "outputs": [],
   "source": [
    "# 2. What is the value of a dictionary value with the key 'foo' and the value 42?"
   ]
  },
  {
   "cell_type": "code",
   "execution_count": 7,
   "id": "86434553",
   "metadata": {},
   "outputs": [],
   "source": [
    "l2={\"foo\":42}"
   ]
  },
  {
   "cell_type": "code",
   "execution_count": 8,
   "id": "e2d6e5ab",
   "metadata": {},
   "outputs": [
    {
     "data": {
      "text/plain": [
       "{'foo': 42}"
      ]
     },
     "execution_count": 8,
     "metadata": {},
     "output_type": "execute_result"
    }
   ],
   "source": [
    "l2"
   ]
  },
  {
   "cell_type": "code",
   "execution_count": 19,
   "id": "813d0fc8",
   "metadata": {},
   "outputs": [
    {
     "data": {
      "text/plain": [
       "[42]"
      ]
     },
     "execution_count": 19,
     "metadata": {},
     "output_type": "execute_result"
    }
   ],
   "source": [
    "list(l2.values())"
   ]
  },
  {
   "cell_type": "code",
   "execution_count": 20,
   "id": "0f77096d",
   "metadata": {},
   "outputs": [],
   "source": [
    "# 3. What is the most significant distinction between a dictionary and a list?\n"
   ]
  },
  {
   "cell_type": "code",
   "execution_count": 21,
   "id": "457e8b36",
   "metadata": {},
   "outputs": [],
   "source": [
    "# In the list the values are stored just as values but in dictionary the values are stored as key value pair"
   ]
  },
  {
   "cell_type": "code",
   "execution_count": 22,
   "id": "325be7af",
   "metadata": {},
   "outputs": [],
   "source": [
    "# 4. What happens if you try to access spam['foo'] if spam is {'bar': 100}?"
   ]
  },
  {
   "cell_type": "code",
   "execution_count": 23,
   "id": "009dad8e",
   "metadata": {},
   "outputs": [],
   "source": [
    "spam={\"bar\":100}"
   ]
  },
  {
   "cell_type": "code",
   "execution_count": 24,
   "id": "1364e498",
   "metadata": {},
   "outputs": [
    {
     "ename": "KeyError",
     "evalue": "'foo'",
     "output_type": "error",
     "traceback": [
      "\u001b[1;31m---------------------------------------------------------------------------\u001b[0m",
      "\u001b[1;31mKeyError\u001b[0m                                  Traceback (most recent call last)",
      "\u001b[1;32m~\\AppData\\Local\\Temp/ipykernel_6260/3999281786.py\u001b[0m in \u001b[0;36m<module>\u001b[1;34m\u001b[0m\n\u001b[1;32m----> 1\u001b[1;33m \u001b[0mspam\u001b[0m\u001b[1;33m[\u001b[0m\u001b[1;34m'foo'\u001b[0m\u001b[1;33m]\u001b[0m\u001b[1;33m\u001b[0m\u001b[1;33m\u001b[0m\u001b[0m\n\u001b[0m",
      "\u001b[1;31mKeyError\u001b[0m: 'foo'"
     ]
    }
   ],
   "source": [
    "spam['foo']\n",
    "\n",
    "#it will throw error as there is no key named foo"
   ]
  },
  {
   "cell_type": "code",
   "execution_count": 25,
   "id": "131e80ca",
   "metadata": {},
   "outputs": [
    {
     "data": {
      "text/plain": [
       "100"
      ]
     },
     "execution_count": 25,
     "metadata": {},
     "output_type": "execute_result"
    }
   ],
   "source": [
    "spam[\"bar\"]"
   ]
  },
  {
   "cell_type": "code",
   "execution_count": 26,
   "id": "b3ca67c3",
   "metadata": {},
   "outputs": [],
   "source": [
    "# 5. If a dictionary is stored in spam, what is the difference between \n",
    "# the expressions 'cat' in spam and 'cat' in spam.keys()?\n"
   ]
  },
  {
   "cell_type": "code",
   "execution_count": 27,
   "id": "4f0607d6",
   "metadata": {},
   "outputs": [],
   "source": [
    "spam={'cat':42}"
   ]
  },
  {
   "cell_type": "code",
   "execution_count": 28,
   "id": "9be2eaa2",
   "metadata": {},
   "outputs": [
    {
     "data": {
      "text/plain": [
       "True"
      ]
     },
     "execution_count": 28,
     "metadata": {},
     "output_type": "execute_result"
    }
   ],
   "source": [
    "'cat' in spam\n",
    "\n",
    "# this will give if cat key is there in spam or not(True or False)"
   ]
  },
  {
   "cell_type": "code",
   "execution_count": 30,
   "id": "0765a588",
   "metadata": {},
   "outputs": [
    {
     "data": {
      "text/plain": [
       "dict_keys(['cat'])"
      ]
     },
     "execution_count": 30,
     "metadata": {},
     "output_type": "execute_result"
    }
   ],
   "source": [
    "spam.keys()\n",
    "# this will give u all the keys stored in spam var"
   ]
  },
  {
   "cell_type": "code",
   "execution_count": 31,
   "id": "a8c57735",
   "metadata": {},
   "outputs": [],
   "source": [
    "# 6. If a dictionary is stored in spam, what is the difference between the expressions \n",
    "#'cat' in spam and 'cat' in spam.values()?\n"
   ]
  },
  {
   "cell_type": "code",
   "execution_count": 32,
   "id": "fbb71286",
   "metadata": {},
   "outputs": [
    {
     "data": {
      "text/plain": [
       "True"
      ]
     },
     "execution_count": 32,
     "metadata": {},
     "output_type": "execute_result"
    }
   ],
   "source": [
    "'cat' in spam\n",
    "\n",
    "# this will give if cat key is there in spam or not(True or False)"
   ]
  },
  {
   "cell_type": "code",
   "execution_count": 34,
   "id": "ae2dbf11",
   "metadata": {},
   "outputs": [
    {
     "data": {
      "text/plain": [
       "dict_values([42])"
      ]
     },
     "execution_count": 34,
     "metadata": {},
     "output_type": "execute_result"
    }
   ],
   "source": [
    "spam.values()\n",
    "\n",
    "# it will show what the value is in the keys stored in the spam var"
   ]
  },
  {
   "cell_type": "code",
   "execution_count": 35,
   "id": "26f57321",
   "metadata": {},
   "outputs": [],
   "source": [
    "# 7. What is a shortcut for the following code?\n",
    "# if 'color' not in spam:\n",
    "# spam['color'] = 'black'\n"
   ]
  },
  {
   "cell_type": "code",
   "execution_count": 36,
   "id": "458d1a6f",
   "metadata": {},
   "outputs": [
    {
     "data": {
      "text/plain": [
       "'black'"
      ]
     },
     "execution_count": 36,
     "metadata": {},
     "output_type": "execute_result"
    }
   ],
   "source": [
    "spam.setdefault('color', 'black')"
   ]
  },
  {
   "cell_type": "code",
   "execution_count": 37,
   "id": "df929510",
   "metadata": {},
   "outputs": [
    {
     "data": {
      "text/plain": [
       "{'cat': 42, 'color': 'black'}"
      ]
     },
     "execution_count": 37,
     "metadata": {},
     "output_type": "execute_result"
    }
   ],
   "source": [
    "spam"
   ]
  },
  {
   "cell_type": "code",
   "execution_count": 38,
   "id": "42eb2166",
   "metadata": {},
   "outputs": [],
   "source": [
    "# 8. How do you \"pretty print\" dictionary values using which module and function?\n"
   ]
  },
  {
   "cell_type": "code",
   "execution_count": 47,
   "id": "87221aaf",
   "metadata": {},
   "outputs": [
    {
     "name": "stdout",
     "output_type": "stream",
     "text": [
      "dict_values([42, 'black'])\n"
     ]
    }
   ],
   "source": [
    "import pprint\n",
    "pprint.pprint(spam.values())"
   ]
  },
  {
   "cell_type": "code",
   "execution_count": null,
   "id": "e8582ec5",
   "metadata": {},
   "outputs": [],
   "source": []
  }
 ],
 "metadata": {
  "kernelspec": {
   "display_name": "Python 3 (ipykernel)",
   "language": "python",
   "name": "python3"
  },
  "language_info": {
   "codemirror_mode": {
    "name": "ipython",
    "version": 3
   },
   "file_extension": ".py",
   "mimetype": "text/x-python",
   "name": "python",
   "nbconvert_exporter": "python",
   "pygments_lexer": "ipython3",
   "version": "3.9.7"
  }
 },
 "nbformat": 4,
 "nbformat_minor": 5
}
