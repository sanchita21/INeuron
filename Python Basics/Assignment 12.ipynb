{
 "cells": [
  {
   "cell_type": "code",
   "execution_count": 1,
   "id": "16932013",
   "metadata": {},
   "outputs": [],
   "source": [
    "# 1. In what modes should the PdfFileReader() and PdfFileWriter() File objects will be opened?"
   ]
  },
  {
   "cell_type": "code",
   "execution_count": 3,
   "id": "49edb74c",
   "metadata": {},
   "outputs": [],
   "source": [
    "# it will be opened in binary mode . rb and wb parameters are passes to open() which states for read binary and write binary"
   ]
  },
  {
   "cell_type": "code",
   "execution_count": 4,
   "id": "4b1958aa",
   "metadata": {},
   "outputs": [],
   "source": [
    "# 2. From a PdfFileReader object, how do you get a Page object for page 5?"
   ]
  },
  {
   "cell_type": "code",
   "execution_count": 5,
   "id": "227f055c",
   "metadata": {},
   "outputs": [],
   "source": [
    "# pdfreader.getPage(4)"
   ]
  },
  {
   "cell_type": "code",
   "execution_count": 6,
   "id": "4fc1a16c",
   "metadata": {},
   "outputs": [],
   "source": [
    "# 3. What PdfFileReader variable stores the number of pages in the PDF document?"
   ]
  },
  {
   "cell_type": "code",
   "execution_count": 8,
   "id": "50553522",
   "metadata": {},
   "outputs": [],
   "source": [
    "# numPages stores the total number of pages in the PDF object"
   ]
  },
  {
   "cell_type": "code",
   "execution_count": 9,
   "id": "5c44ea92",
   "metadata": {},
   "outputs": [],
   "source": [
    "# 4. If a PdfFileReader object’s PDF is encrypted with the password swordfish, what must you do\n",
    "# before you can obtain Page objects from it?"
   ]
  },
  {
   "cell_type": "code",
   "execution_count": 12,
   "id": "97b71437",
   "metadata": {},
   "outputs": [],
   "source": [
    "# # we will have to decrypt the obect using the decrypt() function\n",
    "\n",
    "# assuming pdfreader is our object \n",
    "# #pdfreader.decrypt(\"swordfish\")"
   ]
  },
  {
   "cell_type": "code",
   "execution_count": 13,
   "id": "7d483eae",
   "metadata": {},
   "outputs": [],
   "source": [
    "# 5. What methods do you use to rotate a page?"
   ]
  },
  {
   "cell_type": "code",
   "execution_count": 15,
   "id": "a3e2e1c6",
   "metadata": {},
   "outputs": [],
   "source": [
    "#  page1.rotateClockwise(90) \n",
    "    \n",
    "    # Assuming page1 is the page we want to rotate"
   ]
  },
  {
   "cell_type": "code",
   "execution_count": 16,
   "id": "3203be96",
   "metadata": {},
   "outputs": [],
   "source": [
    "# 6. What is the difference between a Run object and a Paragraph object?"
   ]
  },
  {
   "cell_type": "code",
   "execution_count": 18,
   "id": "883aa3ad",
   "metadata": {},
   "outputs": [],
   "source": [
    "\n",
    "# # Paragraph Object : A document contains multiple paragraphs. A paragraph begins on a new line and contains multiple runs.\n",
    "# The Document object contains a list of Paragraph objects for the paragraphs in the document. (A new paragraph begins whenever the user presses ENTER or RETURN while typing in a Word document.)\n",
    "# # Run Objects : Runs are contiguous groups of characters within a paragraph with the same style"
   ]
  },
  {
   "cell_type": "code",
   "execution_count": 1,
   "id": "580ccb87",
   "metadata": {},
   "outputs": [],
   "source": [
    "# # 7. How do you obtain a list of Paragraph objects for a Document object that’s stored in a variable\n",
    "# named doc?"
   ]
  },
  {
   "cell_type": "code",
   "execution_count": 4,
   "id": "3d54ecd1",
   "metadata": {},
   "outputs": [],
   "source": [
    "\n",
    "# doc.paragraphs\n",
    "# #By using doc.paragraphs"
   ]
  },
  {
   "cell_type": "code",
   "execution_count": 5,
   "id": "fe02cc7d",
   "metadata": {},
   "outputs": [],
   "source": [
    "# 8. What type of object has bold, underline, italic, strike, and outline variables?"
   ]
  },
  {
   "cell_type": "code",
   "execution_count": 6,
   "id": "09758d5c",
   "metadata": {},
   "outputs": [],
   "source": [
    "# A run object has bold, underline , italic , strike and outline variables"
   ]
  },
  {
   "cell_type": "code",
   "execution_count": 7,
   "id": "0c74f6bf",
   "metadata": {},
   "outputs": [],
   "source": [
    "# 9. What is the difference between False, True, and None for the bold variable?"
   ]
  },
  {
   "cell_type": "code",
   "execution_count": 8,
   "id": "3361fe48",
   "metadata": {},
   "outputs": [],
   "source": [
    "# Runs can be further styled using text attributes. Each attribute can be set to one of three values:\n",
    "# True (the attribute is always enabled, no matter what other styles are applied to the run),\n",
    "# False (the attribute is always disabled),\n",
    "# None (defaults to whatever the run’s style is set to)\n",
    "\n",
    "# True always makes the Run object bolded and False makes it always not bolded, no matter what the style’s bold setting is. None will make the Run object just use the style’s bold setting"
   ]
  },
  {
   "cell_type": "code",
   "execution_count": 9,
   "id": "de92bc7a",
   "metadata": {},
   "outputs": [],
   "source": [
    "# 10. How do you create a Document object for a new Word document?"
   ]
  },
  {
   "cell_type": "code",
   "execution_count": 10,
   "id": "bdbb5874",
   "metadata": {},
   "outputs": [],
   "source": [
    "# docx.Document()"
   ]
  },
  {
   "cell_type": "code",
   "execution_count": 11,
   "id": "72022a1e",
   "metadata": {},
   "outputs": [],
   "source": [
    "# 11. How do you add a paragraph with the text &#39;Hello, there!&#39; to a Document object stored in a\n",
    "# variable named doc?"
   ]
  },
  {
   "cell_type": "code",
   "execution_count": 12,
   "id": "9beaceb8",
   "metadata": {},
   "outputs": [],
   "source": [
    "# import docx\n",
    "# doc = docx.Document()\n",
    "\n",
    "# doc.add_paragraph('Hello there!')\n",
    "# doc.save('hellothere.docx')"
   ]
  },
  {
   "cell_type": "code",
   "execution_count": 13,
   "id": "82daddcf",
   "metadata": {},
   "outputs": [],
   "source": [
    "# 12. What integers represent the levels of headings available in Word documents?"
   ]
  },
  {
   "cell_type": "code",
   "execution_count": 15,
   "id": "5280f88e",
   "metadata": {},
   "outputs": [],
   "source": [
    "# # integer from 0 to 4\n",
    "# # The arguments to add_heading() are a string of the heading text and an integer from 0 to 4. The integer 0 makes the heading the Title style, which is used for the top of the document. Integers 1 to 4 are for various heading levels, \n",
    "# with 1 being the main heading and 4 the lowest subheading"
   ]
  },
  {
   "cell_type": "code",
   "execution_count": null,
   "id": "c72203ad",
   "metadata": {},
   "outputs": [],
   "source": []
  }
 ],
 "metadata": {
  "kernelspec": {
   "display_name": "Python 3 (ipykernel)",
   "language": "python",
   "name": "python3"
  },
  "language_info": {
   "codemirror_mode": {
    "name": "ipython",
    "version": 3
   },
   "file_extension": ".py",
   "mimetype": "text/x-python",
   "name": "python",
   "nbconvert_exporter": "python",
   "pygments_lexer": "ipython3",
   "version": "3.9.7"
  }
 },
 "nbformat": 4,
 "nbformat_minor": 5
}
