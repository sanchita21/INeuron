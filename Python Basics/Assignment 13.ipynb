{
 "cells": [
  {
   "cell_type": "code",
   "execution_count": 1,
   "id": "e77e0316",
   "metadata": {},
   "outputs": [],
   "source": [
    "# 1. What advantages do Excel spreadsheets have over CSV spreadsheets?"
   ]
  },
  {
   "cell_type": "code",
   "execution_count": 2,
   "id": "837fdf0d",
   "metadata": {},
   "outputs": [],
   "source": [
    "# -you can manipulate data in Excel whereas in CSV it stores data as it is\n",
    "# - In excel , it is a binary format so it can store different worksheets in a workbook\n",
    "# - Reading large files is much easier in Excel over CSV for the end user "
   ]
  },
  {
   "cell_type": "code",
   "execution_count": 3,
   "id": "2bf4cbce",
   "metadata": {},
   "outputs": [],
   "source": [
    "# 2.What do you pass to csv.reader() and csv.writer() to create reader and writer objects?"
   ]
  },
  {
   "cell_type": "code",
   "execution_count": 4,
   "id": "acf38681",
   "metadata": {},
   "outputs": [],
   "source": [
    "import csv"
   ]
  },
  {
   "cell_type": "code",
   "execution_count": 19,
   "id": "a81858e3",
   "metadata": {},
   "outputs": [
    {
     "name": "stdout",
     "output_type": "stream",
     "text": [
      "['ï»¿cluster', 'category', 'vertical', 'portfolio_view', 'seller_org_id', 'seller_org_name', 'brand', 'Categories', 'buyers', 'orders', 'gmv', 'L2_buyers', 'L3_buyers', 'L6_buyers', 'Hard_V_Buyers', 'Soft_V_Buyers', 'Un_V_Buyers']\n",
      "['Lucknow', 'H&K-Metals', 'SteelKadhaiandHandi', 'SteelTail', 'ORG697RPYYHS58CYFN0WRFVLRHVYF', 'GOYAL PRODUCTS (INDIA)', 'Unify', 'Metals', '41', '48', '216773.87', '0', '0', '3', '41', '0', '0']\n",
      "['Patna', 'H&K-Non Metals', 'Pressurecooker', 'Cookwaresets', 'ORG6R2539F0ENCHSGTCGJWPZ7ZWX6', 'Tanvi Enterprises', 'IG', 'Non Metals', '154', '246', '878305.34', '0', '0', '0', '138', '10', '6']\n",
      "['Patna', 'H&K-Non Metals', 'PopUpToaster', 'Appliances', 'ORG7PW90RHHMJCYVZGZNFP1WE16JQ', 'Golu', '', 'Non Metals', '3', '4', '4191.34', '0', '0', '0', '2', '1', '0']\n",
      "['Bhopal', 'H&K-Metals', 'SteelCookingSpoons', 'SteelTail', 'ORG0Q6WTR60KVCKHZCYXYFN07BK73', 'BANARSI DAS & SONS', '', 'Metals', '13', '14', '45128.37', '0', '0', '0', '11', '2', '0']\n",
      "['Guwahati', 'H&K-Non Metals', 'Laundrybasket', 'Plastic', 'ORGEKDB9Q0GLFCYTFDNLESF2BRNBT', 'SEE INSIDE', 'See Inside', 'Non Metals', '40', '47', '52950.71', '0', '1', '7', '39', '0', '1']\n",
      "['Bhopal', 'H&K-Non Metals', 'LPGgaspipe', 'Appliances', 'ORGGWC5WBSYMXQSTFR24YMC625S72', 'Navisha Kitchen Galary', 'Magic Flame', 'Non Metals', '11', '15', '27567.24', '1', '3', '4', '11', '0', '0']\n",
      "['Mumbai', 'Toys & Baby Care', 'KidsTri-Cycle', 'Baby Gear', 'ORGERRJC6FK4Z85VG18D42DHVQJER', 'kids planet', 'ESS', 'RoGM', '23', '26', '129591.05', '0', '0', '0', '21', '2', '0']\n",
      "['Bhuvneshwar', 'H&K-Non Metals', 'Knives', 'KitchenTools', 'ORG0FMNQ2ZWY2Q34GD08K6LVR9XGV', 'RAM ENTERPRISES', 'EcoTel', 'Non Metals', '7', '7', '1868.52', '0', '0', '0', '5', '2', '0']\n",
      "['Delhi', 'H&K-Metals', 'SteelJugandPitcher', 'SteelTail', 'ORG0Q6WTR60KVCKHZCYXYFN07BK73', 'BANARSI DAS & SONS', 'Neelkamal', 'Metals', '98', '123', '370119.31', '4', '7', '8', '82', '11', '5']\n"
     ]
    }
   ],
   "source": [
    "# opening the csv file\n",
    "with open('file.csv', mode='r') as csvfileobject:\n",
    "    \n",
    "    csvfile=csv.reader(csvfileobject)\n",
    "    \n",
    "    for lines in csvfile:\n",
    "        print(lines)\n",
    "        \n",
    "        # for statement should be inside with block"
   ]
  },
  {
   "cell_type": "code",
   "execution_count": 20,
   "id": "5674c6f5",
   "metadata": {},
   "outputs": [],
   "source": [
    "# writing  a CSV file\n",
    "\n",
    "fields=['Name','Class', 'Year']\n",
    "\n",
    "rows=[['Nikhail','8','2022'],\n",
    "     ['Sanchita','12','2022'],\n",
    "     ['Riya','7','2021']\n",
    "      ]"
   ]
  },
  {
   "cell_type": "code",
   "execution_count": 21,
   "id": "b9eaaa13",
   "metadata": {},
   "outputs": [],
   "source": [
    "filename='schoolrecords.csv'"
   ]
  },
  {
   "cell_type": "code",
   "execution_count": 23,
   "id": "9e56c8ed",
   "metadata": {},
   "outputs": [],
   "source": [
    "# writing to csv file\n",
    "with open('schoolrecords.csv',mode='w') as csvfilewrite:\n",
    "    \n",
    "    # creating csv writer object\n",
    "    csvwrite=csv.writer(csvfilewrite)\n",
    "\n",
    "    csvwrite.writerow(fields)\n",
    "    \n",
    "    csvwrite.writerows(rows)\n",
    " "
   ]
  },
  {
   "cell_type": "code",
   "execution_count": 25,
   "id": "7ab93179",
   "metadata": {},
   "outputs": [
    {
     "data": {
      "text/plain": [
       "<_csv.writer at 0x1b23724c860>"
      ]
     },
     "execution_count": 25,
     "metadata": {},
     "output_type": "execute_result"
    }
   ],
   "source": [
    "csvwrite"
   ]
  },
  {
   "cell_type": "code",
   "execution_count": 29,
   "id": "5fc3c67e",
   "metadata": {},
   "outputs": [
    {
     "name": "stdout",
     "output_type": "stream",
     "text": [
      "Name,Class,Year\n",
      "\n",
      "\n",
      "\n",
      "Nikhail,8,2022\n",
      "\n",
      "\n",
      "\n",
      "Sanchita,12,2022\n",
      "\n",
      "\n",
      "\n",
      "Riya,7,2021\n",
      "\n",
      "\n",
      "\n"
     ]
    }
   ],
   "source": [
    "file = open(\"schoolrecords.csv\",mode='r')\n",
    "for row in file:\n",
    "    print(row)"
   ]
  },
  {
   "cell_type": "code",
   "execution_count": 30,
   "id": "4089ee07",
   "metadata": {},
   "outputs": [],
   "source": [
    "# 3. What modes do File objects for reader and writer objects need to be opened in?"
   ]
  },
  {
   "cell_type": "code",
   "execution_count": 31,
   "id": "00081669",
   "metadata": {},
   "outputs": [],
   "source": [
    "# for the reader it should be opened in reader mode i.e mode='r' and for writer it is mode='w'"
   ]
  },
  {
   "cell_type": "code",
   "execution_count": 32,
   "id": "3b2f2d40",
   "metadata": {},
   "outputs": [],
   "source": [
    "# 4. What method takes a list argument and writes it to a CSV file?"
   ]
  },
  {
   "cell_type": "code",
   "execution_count": 34,
   "id": "b94d3923",
   "metadata": {},
   "outputs": [],
   "source": [
    "#writerow() and writerows()\n"
   ]
  },
  {
   "cell_type": "code",
   "execution_count": 35,
   "id": "0228d3ec",
   "metadata": {},
   "outputs": [],
   "source": [
    "# 5. What do the keyword arguments delimiter and line terminator do?"
   ]
  },
  {
   "cell_type": "code",
   "execution_count": 37,
   "id": "3e5bbc96",
   "metadata": {},
   "outputs": [],
   "source": [
    "# # The delimiter is the character that appears between cells on a row. By default, the delimiter for a CSV file is a comma.\n",
    "# The line terminator is the character that comes at the end of a row. By default, the line terminator is a newline. You can change characters to different values by using the delimiter and lineterminator keyword arguments with csv.writer().\n",
    "\n",
    "# # Passing delimeter='\\t' and lineterminator='\\n\\n' ❶ changes the character between cells to a tab and the character \n",
    "# between rows to two newlines"
   ]
  },
  {
   "cell_type": "code",
   "execution_count": null,
   "id": "9425cf08",
   "metadata": {},
   "outputs": [],
   "source": [
    "# 6. What function takes a string of JSON data and returns a Python data structure?"
   ]
  },
  {
   "cell_type": "code",
   "execution_count": 38,
   "id": "0facfa48",
   "metadata": {},
   "outputs": [],
   "source": [
    "# json.loads()"
   ]
  },
  {
   "cell_type": "code",
   "execution_count": 40,
   "id": "f0b8ec89",
   "metadata": {},
   "outputs": [
    {
     "data": {
      "text/plain": [
       "{'name': 'Zophie', 'isCat': True, 'miceCaught': 0, 'felineIQ': None}"
      ]
     },
     "execution_count": 40,
     "metadata": {},
     "output_type": "execute_result"
    }
   ],
   "source": [
    "stringOfJsonData = '{\"name\": \"Zophie\", \"isCat\": true, \"miceCaught\": 0,\"felineIQ\": null}'\n",
    "import json\n",
    "jsonDataAsPythonValue = json.loads(stringOfJsonData)\n",
    "jsonDataAsPythonValue"
   ]
  },
  {
   "cell_type": "code",
   "execution_count": 41,
   "id": "15713ba6",
   "metadata": {},
   "outputs": [],
   "source": [
    "# 7. What function takes a Python data structure and returns a string of JSON data?"
   ]
  },
  {
   "cell_type": "code",
   "execution_count": 42,
   "id": "3307b341",
   "metadata": {},
   "outputs": [
    {
     "data": {
      "text/plain": [
       "'{\"isCat\": true, \"miceCaught\": 0, \"name\": \"Zophie\", \"felineIQ\": null}'"
      ]
     },
     "execution_count": 42,
     "metadata": {},
     "output_type": "execute_result"
    }
   ],
   "source": [
    " pythonValue = {'isCat': True, 'miceCaught': 0, 'name': 'Zophie',\n",
    "'felineIQ': None}\n",
    "\n",
    "stringOfJsonData = json.dumps(pythonValue)\n",
    "stringOfJsonData"
   ]
  },
  {
   "cell_type": "code",
   "execution_count": 43,
   "id": "e368525f",
   "metadata": {},
   "outputs": [],
   "source": [
    "# json.dumps() returns a string of JSON objects"
   ]
  },
  {
   "cell_type": "code",
   "execution_count": null,
   "id": "3d095556",
   "metadata": {},
   "outputs": [],
   "source": []
  }
 ],
 "metadata": {
  "kernelspec": {
   "display_name": "Python 3 (ipykernel)",
   "language": "python",
   "name": "python3"
  },
  "language_info": {
   "codemirror_mode": {
    "name": "ipython",
    "version": 3
   },
   "file_extension": ".py",
   "mimetype": "text/x-python",
   "name": "python",
   "nbconvert_exporter": "python",
   "pygments_lexer": "ipython3",
   "version": "3.9.7"
  }
 },
 "nbformat": 4,
 "nbformat_minor": 5
}
