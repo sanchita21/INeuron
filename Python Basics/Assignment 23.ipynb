{
 "cells": [
  {
   "cell_type": "code",
   "execution_count": 1,
   "id": "93944a41",
   "metadata": {},
   "outputs": [],
   "source": [
    "# 1. What is the result of the code, and why?\n",
    "# >>> def func(a, b=6, c=8):\n",
    "# print(a, b, c)\n",
    "# >>> func(1, 2)\n"
   ]
  },
  {
   "cell_type": "code",
   "execution_count": 5,
   "id": "efc1f149",
   "metadata": {},
   "outputs": [],
   "source": [
    "def func(a, b=6, c=8):\n",
    "    print(a, b, c)\n"
   ]
  },
  {
   "cell_type": "code",
   "execution_count": 7,
   "id": "2bfea6d1",
   "metadata": {},
   "outputs": [
    {
     "name": "stdout",
     "output_type": "stream",
     "text": [
      "1 2 8\n"
     ]
    }
   ],
   "source": [
    "func(1, 2)"
   ]
  },
  {
   "cell_type": "code",
   "execution_count": 8,
   "id": "430392f7",
   "metadata": {},
   "outputs": [],
   "source": [
    "#  If you have some functions with many parameters and you want to specify only some of them,\n",
    "# then you can give values for such parameters by naming them – this is called keyword arguments –\n",
    "# we use the name (keyword) instead of the position (which we have been using all along) to specify\n",
    "# the arguments to the function.\n",
    "# The function named func has one parameter without a default argument value, followed by two parameters with default argument \n",
    "# values.\n",
    "# In the first usage, func(1, 2), the parameter a gets the value 1, the parameter b gets the value 2 and \n",
    "# c gets the default value of 8.\n",
    "\n"
   ]
  },
  {
   "cell_type": "code",
   "execution_count": 9,
   "id": "383c39d6",
   "metadata": {},
   "outputs": [],
   "source": [
    "# 2. What is the result of this code, and why?\n",
    "# >>> def func(a, b, c=5):\n",
    "# print(a, b, c)\n",
    "# >>> func(1, c=3, b=2)\n"
   ]
  },
  {
   "cell_type": "code",
   "execution_count": 11,
   "id": "16501b57",
   "metadata": {},
   "outputs": [],
   "source": [
    "def func(a, b, c=5):\n",
    "    print(a, b, c)\n",
    "\n"
   ]
  },
  {
   "cell_type": "code",
   "execution_count": 13,
   "id": "ce4e6bc1",
   "metadata": {},
   "outputs": [
    {
     "name": "stdout",
     "output_type": "stream",
     "text": [
      "1 2 3\n"
     ]
    }
   ],
   "source": [
    "func(1, c=3, b=2)"
   ]
  },
  {
   "cell_type": "code",
   "execution_count": 14,
   "id": "e35c1337",
   "metadata": {},
   "outputs": [],
   "source": [
    "# # # In this it will print the arguments we have passed in the function func, and it will order the value according to the \n",
    "# # order we have defined in the function which is a,b,c\n",
    "# if argument name is mentioned while doing a function call, the order of arguments is also ignored by the python interpreter\""
   ]
  },
  {
   "cell_type": "code",
   "execution_count": 15,
   "id": "38595d8c",
   "metadata": {},
   "outputs": [],
   "source": [
    "# 3. How about this code: what is its result, and why?\n",
    "# >>> def func(a, *pargs):\n",
    "# print(a, pargs)\n",
    "# >>> func(1, 2, 3)\n"
   ]
  },
  {
   "cell_type": "code",
   "execution_count": 17,
   "id": "dea31c89",
   "metadata": {},
   "outputs": [],
   "source": [
    "def func(a, *pargs):\n",
    "    print(a, pargs)\n",
    "\n"
   ]
  },
  {
   "cell_type": "code",
   "execution_count": 18,
   "id": "8dece5fc",
   "metadata": {},
   "outputs": [
    {
     "name": "stdout",
     "output_type": "stream",
     "text": [
      "1 (2, 3)\n"
     ]
    }
   ],
   "source": [
    "func(1, 2, 3)"
   ]
  },
  {
   "cell_type": "code",
   "execution_count": 19,
   "id": "02a05587",
   "metadata": {},
   "outputs": [],
   "source": [
    "# # # we are defining the *pargs here to pass a variable a  number of arguments . a here will take 1 argument whereas pargs \n",
    "# # can take more than 1 value. we use this when we are not sure how many arguments we will paas.all the values under this argument\n",
    "# will be stored in a tuple"
   ]
  },
  {
   "cell_type": "code",
   "execution_count": 20,
   "id": "f1f384c3",
   "metadata": {},
   "outputs": [],
   "source": [
    "\n",
    "# 4. What does this code print, and why?\n",
    "# >>> def func(a, **kargs):\n",
    "# print(a, kargs)\n",
    "# >>> func(a=1, c=3, b=2)\n"
   ]
  },
  {
   "cell_type": "code",
   "execution_count": 22,
   "id": "82accf08",
   "metadata": {},
   "outputs": [],
   "source": [
    "def func(a, **kargs):\n",
    "    print(a, kargs)\n",
    "\n"
   ]
  },
  {
   "cell_type": "code",
   "execution_count": 27,
   "id": "6dadc3cd",
   "metadata": {},
   "outputs": [
    {
     "name": "stdout",
     "output_type": "stream",
     "text": [
      "1 {'c': 3, 'b': 2}\n"
     ]
    }
   ],
   "source": [
    "func(a=1, c=3, b=2)"
   ]
  },
  {
   "cell_type": "code",
   "execution_count": 28,
   "id": "05eed202",
   "metadata": {},
   "outputs": [],
   "source": [
    "# # In this code we are take **kwargs which will take a key value pair of values. so here a will take 1 value and \n",
    "# then kwargs will take c and b key value pairs"
   ]
  },
  {
   "cell_type": "code",
   "execution_count": 29,
   "id": "205b3a86",
   "metadata": {},
   "outputs": [],
   "source": [
    "# 5. What gets printed by this, and explain?\n",
    "# >>> def func(a, b, c=8, d=5): print(a, b, c, d)\n",
    "# >>> func(1, *(5, 6))\n"
   ]
  },
  {
   "cell_type": "code",
   "execution_count": 30,
   "id": "a4175a0a",
   "metadata": {},
   "outputs": [],
   "source": [
    "def func(a, b, c=8, d=5): \n",
    "    print(a, b, c, d)\n",
    "\n"
   ]
  },
  {
   "cell_type": "code",
   "execution_count": 31,
   "id": "9918c67f",
   "metadata": {},
   "outputs": [
    {
     "name": "stdout",
     "output_type": "stream",
     "text": [
      "1 5 6 5\n"
     ]
    }
   ],
   "source": [
    ">>> func(1, *(5, 6))"
   ]
  },
  {
   "cell_type": "code",
   "execution_count": 32,
   "id": "6f8bb81f",
   "metadata": {},
   "outputs": [],
   "source": [
    "# # # # This reason for this function not throwing an error is because, this function expects 4 arguments.\n",
    "# # # the value for a is provided explicitly whereas for arguments b and c, the function will expand the *(5,6) and\n",
    "# # consider the value of b as 5 and value of c as 6. since the default value of d is provided in function declaration d value \n",
    "# will be 5.\n",
    "# # # However it is recommended to use the feature of positional arguments at the end\""
   ]
  },
  {
   "cell_type": "code",
   "execution_count": 33,
   "id": "b6bc674c",
   "metadata": {},
   "outputs": [],
   "source": [
    "\n",
    "# 6. what is the result of this, and explain?\n",
    "# >>> def func(a, b, c): a = 2; b[0] = 'x'; c['a'] = 'y'\n",
    "# >>> l=1; m=[1]; n={'a':0}\n",
    "# >>> func(l, m, n)\n"
   ]
  },
  {
   "cell_type": "code",
   "execution_count": 5,
   "id": "c5f605d8",
   "metadata": {},
   "outputs": [],
   "source": [
    ">>> def func(a, b, c): a = 2; b[0] = 'x'; c['a'] = 'y'\n",
    ">>> l=1; m=[1]; n={'a':0}\n",
    "func(l,m,n)"
   ]
  },
  {
   "cell_type": "code",
   "execution_count": 65,
   "id": "5eeccd63",
   "metadata": {},
   "outputs": [
    {
     "data": {
      "text/plain": [
       "(1, ['x'], {'a': 'y'})"
      ]
     },
     "execution_count": 65,
     "metadata": {},
     "output_type": "execute_result"
    }
   ],
   "source": [
    "l,m,n"
   ]
  },
  {
   "cell_type": "code",
   "execution_count": 58,
   "id": "a0621e02",
   "metadata": {},
   "outputs": [],
   "source": [
    "# Eventhough Python gives importance to indentation. its provides a facility to declare an entire function in one single line.\n",
    "# where statements in a function body are sepereated by ;\n",
    "# When l,m,n are provided as inputs to the function. its modifies the values of l,m,n and sets the \n",
    "# value of l=2 ,m=['x'] and n={'a':'y'}"
   ]
  },
  {
   "cell_type": "code",
   "execution_count": null,
   "id": "66f029f4",
   "metadata": {},
   "outputs": [],
   "source": [
    "# #in the code, the list and dict are passed as argument, and those are mutable.\n",
    "# Here the list m and parameter b point to the same list in the memory location where as dict n and c point to the same\n",
    "# memory location. Any updates to this list will update in the memory location\n",
    "\n",
    "# #l = 1 , integer values, immutable, m is list, mutable, n is dict, mutable.\n",
    "# #output will be = 1,['x'],{'a':'y'}"
   ]
  }
 ],
 "metadata": {
  "kernelspec": {
   "display_name": "Python 3 (ipykernel)",
   "language": "python",
   "name": "python3"
  },
  "language_info": {
   "codemirror_mode": {
    "name": "ipython",
    "version": 3
   },
   "file_extension": ".py",
   "mimetype": "text/x-python",
   "name": "python",
   "nbconvert_exporter": "python",
   "pygments_lexer": "ipython3",
   "version": "3.9.7"
  }
 },
 "nbformat": 4,
 "nbformat_minor": 5
}
