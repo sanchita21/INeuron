{
 "cells": [
  {
   "cell_type": "code",
   "execution_count": 1,
   "id": "49e1fa62",
   "metadata": {},
   "outputs": [],
   "source": [
    "# 1. What exactly is []?\n"
   ]
  },
  {
   "cell_type": "code",
   "execution_count": 2,
   "id": "87eb182a",
   "metadata": {},
   "outputs": [],
   "source": [
    "# this is used to create a list using two Square brackets seperated by comma's"
   ]
  },
  {
   "cell_type": "code",
   "execution_count": 4,
   "id": "82eb3ba1",
   "metadata": {},
   "outputs": [],
   "source": [
    "# # 2. In a list of values stored in a variable called spam, how would you assign the value 'hello' as the third value?\n",
    "# (Assume [2, 4, 6, 8, 10] are in spam.)\n"
   ]
  },
  {
   "cell_type": "code",
   "execution_count": 5,
   "id": "1c037a63",
   "metadata": {},
   "outputs": [],
   "source": [
    "spam=[2,4,6,8,10]"
   ]
  },
  {
   "cell_type": "code",
   "execution_count": 6,
   "id": "21011091",
   "metadata": {},
   "outputs": [],
   "source": [
    "spam[2]=\"hello\""
   ]
  },
  {
   "cell_type": "code",
   "execution_count": 7,
   "id": "91cca038",
   "metadata": {},
   "outputs": [
    {
     "data": {
      "text/plain": [
       "[2, 4, 'hello', 8, 10]"
      ]
     },
     "execution_count": 7,
     "metadata": {},
     "output_type": "execute_result"
    }
   ],
   "source": [
    "spam"
   ]
  },
  {
   "cell_type": "code",
   "execution_count": 8,
   "id": "72807ad2",
   "metadata": {},
   "outputs": [],
   "source": [
    "#  Let's pretend the spam includes the list ['a', 'b', 'c', 'd'] for the next three queries.\n",
    "\n",
    "# 3. What is the value of spam[int(int('3' * 2) / 11)]?\n"
   ]
  },
  {
   "cell_type": "code",
   "execution_count": 10,
   "id": "1d8fb2da",
   "metadata": {},
   "outputs": [
    {
     "data": {
      "text/plain": [
       "'d'"
      ]
     },
     "execution_count": 10,
     "metadata": {},
     "output_type": "execute_result"
    }
   ],
   "source": [
    "spam=['a','b','c','d']\n",
    "\n",
    "\n",
    "spam[int(int('3' * 2) / 11)]"
   ]
  },
  {
   "cell_type": "code",
   "execution_count": 13,
   "id": "d5650172",
   "metadata": {},
   "outputs": [],
   "source": [
    "#4. What is the value of spam[-1]?"
   ]
  },
  {
   "cell_type": "code",
   "execution_count": 14,
   "id": "7e104ea2",
   "metadata": {},
   "outputs": [
    {
     "data": {
      "text/plain": [
       "'d'"
      ]
     },
     "execution_count": 14,
     "metadata": {},
     "output_type": "execute_result"
    }
   ],
   "source": [
    "spam[-1]"
   ]
  },
  {
   "cell_type": "code",
   "execution_count": 15,
   "id": "1f195305",
   "metadata": {},
   "outputs": [],
   "source": [
    "# 5. What is the value of spam[:2]?\n"
   ]
  },
  {
   "cell_type": "code",
   "execution_count": 16,
   "id": "4fd240a2",
   "metadata": {},
   "outputs": [
    {
     "data": {
      "text/plain": [
       "['a', 'b']"
      ]
     },
     "execution_count": 16,
     "metadata": {},
     "output_type": "execute_result"
    }
   ],
   "source": [
    "spam[:2]"
   ]
  },
  {
   "cell_type": "code",
   "execution_count": 17,
   "id": "18898105",
   "metadata": {},
   "outputs": [],
   "source": [
    "# Let's pretend bacon has the list [3.14, 'cat,' 11, 'cat,' True] for the next three questions"
   ]
  },
  {
   "cell_type": "code",
   "execution_count": 18,
   "id": "ab7f81dc",
   "metadata": {},
   "outputs": [],
   "source": [
    "# 6. What is the value of bacon.index('cat')?\n"
   ]
  },
  {
   "cell_type": "code",
   "execution_count": 33,
   "id": "8cb01a68",
   "metadata": {},
   "outputs": [],
   "source": [
    "bacon=[3.14,'cat',11,'cat',True]"
   ]
  },
  {
   "cell_type": "code",
   "execution_count": 34,
   "id": "d4cd419f",
   "metadata": {},
   "outputs": [
    {
     "data": {
      "text/plain": [
       "1"
      ]
     },
     "execution_count": 34,
     "metadata": {},
     "output_type": "execute_result"
    }
   ],
   "source": [
    "bacon.index('cat')\n",
    "\n",
    "# its taking the first cat which is index 1"
   ]
  },
  {
   "cell_type": "code",
   "execution_count": 35,
   "id": "7e8543bb",
   "metadata": {},
   "outputs": [],
   "source": [
    "# 7. How does bacon.append(99) change the look of the list value in bacon?"
   ]
  },
  {
   "cell_type": "code",
   "execution_count": 36,
   "id": "1fcea70a",
   "metadata": {},
   "outputs": [],
   "source": [
    "bacon.append(99)\n",
    "\n",
    "\n",
    "# it will add at the last index of the list"
   ]
  },
  {
   "cell_type": "code",
   "execution_count": 37,
   "id": "225cc00a",
   "metadata": {},
   "outputs": [
    {
     "data": {
      "text/plain": [
       "[3.14, 'cat', 11, 'cat', True, 99]"
      ]
     },
     "execution_count": 37,
     "metadata": {},
     "output_type": "execute_result"
    }
   ],
   "source": [
    "bacon"
   ]
  },
  {
   "cell_type": "code",
   "execution_count": 38,
   "id": "25684ceb",
   "metadata": {},
   "outputs": [],
   "source": [
    "# 8. How does bacon.remove('cat') change the look of the list in bacon?"
   ]
  },
  {
   "cell_type": "code",
   "execution_count": 39,
   "id": "362d7cf6",
   "metadata": {},
   "outputs": [],
   "source": [
    "bacon.remove('cat')\n",
    "\n",
    "# it will remove the fisr cat string from bacon which is index 1"
   ]
  },
  {
   "cell_type": "code",
   "execution_count": 40,
   "id": "02fae93a",
   "metadata": {},
   "outputs": [
    {
     "data": {
      "text/plain": [
       "[3.14, 11, 'cat', True, 99]"
      ]
     },
     "execution_count": 40,
     "metadata": {},
     "output_type": "execute_result"
    }
   ],
   "source": [
    "bacon"
   ]
  },
  {
   "cell_type": "code",
   "execution_count": 41,
   "id": "59252578",
   "metadata": {},
   "outputs": [],
   "source": [
    "# 9. What are the list concatenation and list replication operators?\n"
   ]
  },
  {
   "cell_type": "code",
   "execution_count": 43,
   "id": "a1e9e31b",
   "metadata": {},
   "outputs": [
    {
     "name": "stdout",
     "output_type": "stream",
     "text": [
      "[1, 2, 3, 4, 5, 6]\n"
     ]
    }
   ],
   "source": [
    "# #list concatenation : we could use + operator to concatenate two lists\n",
    "# e.g\n",
    "\n",
    "l1=[1,2,3]\n",
    "l2=[4,5,6]\n",
    "l3=l1+l2\n",
    "print(l3)"
   ]
  },
  {
   "cell_type": "code",
   "execution_count": 44,
   "id": "3c8dac71",
   "metadata": {},
   "outputs": [
    {
     "name": "stdout",
     "output_type": "stream",
     "text": [
      "[1, 2, 3, 1, 2, 3]\n"
     ]
    }
   ],
   "source": [
    "# LIst replication: we could use * for replicating a list\n",
    "l4=l1*2\n",
    "print(l4)"
   ]
  },
  {
   "cell_type": "code",
   "execution_count": 45,
   "id": "10eca06a",
   "metadata": {},
   "outputs": [],
   "source": [
    "# 10. What is difference between the list methods append() and insert()?\n"
   ]
  },
  {
   "cell_type": "code",
   "execution_count": 5,
   "id": "86304b20",
   "metadata": {},
   "outputs": [],
   "source": [
    "# # Append function add a element in the list. When append() method adds its argument as a single element to the end of a list, \n",
    "# # the length of the list itself will increase by one.\n",
    "\n",
    "\n",
    "# # create a list of vowels\n",
    "# vowel = ['a', 'e', 'i', 'u']\n",
    "# vowel.append('o')\n",
    "\n",
    "# now o will be added at the end of the list\n",
    "\n",
    "\n",
    "\n",
    "\n",
    "# # Insert function: The insert() method inserts an element to the list at the specified index.\n",
    "# say if you want to insert at an index 1 of a list then l1\n",
    "\n",
    "\n",
    "# # create a list of vowels\n",
    "# vowel = ['a', 'e', 'i', 'u']\n",
    "\n",
    "# # 'o' is inserted at index 3 (4th position)\n",
    "# vowel.insert(3, 'o')\n",
    "\n"
   ]
  },
  {
   "cell_type": "code",
   "execution_count": 6,
   "id": "27d5c1ef",
   "metadata": {},
   "outputs": [],
   "source": [
    "# 11. What are the two methods for removing items from a list?\n"
   ]
  },
  {
   "cell_type": "code",
   "execution_count": 16,
   "id": "8011497f",
   "metadata": {},
   "outputs": [],
   "source": [
    "# pop() and remove is used to removed the items from a list. please check the examples below"
   ]
  },
  {
   "cell_type": "code",
   "execution_count": 8,
   "id": "5a26797d",
   "metadata": {},
   "outputs": [
    {
     "data": {
      "text/plain": [
       "[1, 2, 3, 4, 5, 6, 7]"
      ]
     },
     "execution_count": 8,
     "metadata": {},
     "output_type": "execute_result"
    }
   ],
   "source": [
    "l1=[1,2,3,4,5,6,7]\n",
    "l1"
   ]
  },
  {
   "cell_type": "code",
   "execution_count": 12,
   "id": "49ecb929",
   "metadata": {},
   "outputs": [],
   "source": [
    "l1.remove(2)"
   ]
  },
  {
   "cell_type": "code",
   "execution_count": 13,
   "id": "e7eeda16",
   "metadata": {},
   "outputs": [
    {
     "data": {
      "text/plain": [
       "[1, 3, 4, 5, 6, 7]"
      ]
     },
     "execution_count": 13,
     "metadata": {},
     "output_type": "execute_result"
    }
   ],
   "source": [
    "l1"
   ]
  },
  {
   "cell_type": "code",
   "execution_count": 14,
   "id": "654a7c22",
   "metadata": {},
   "outputs": [
    {
     "data": {
      "text/plain": [
       "4"
      ]
     },
     "execution_count": 14,
     "metadata": {},
     "output_type": "execute_result"
    }
   ],
   "source": [
    "l1.pop(2)"
   ]
  },
  {
   "cell_type": "code",
   "execution_count": 15,
   "id": "fbef03d6",
   "metadata": {},
   "outputs": [
    {
     "data": {
      "text/plain": [
       "[1, 3, 5, 6, 7]"
      ]
     },
     "execution_count": 15,
     "metadata": {},
     "output_type": "execute_result"
    }
   ],
   "source": [
    "l1"
   ]
  },
  {
   "cell_type": "code",
   "execution_count": 17,
   "id": "81bfadff",
   "metadata": {},
   "outputs": [],
   "source": [
    "# 12. Describe how list values and string values are identical.\n"
   ]
  },
  {
   "cell_type": "code",
   "execution_count": 18,
   "id": "76824dcd",
   "metadata": {},
   "outputs": [],
   "source": [
    "# List and string both are used to store value /data and both are sequence."
   ]
  },
  {
   "cell_type": "code",
   "execution_count": 19,
   "id": "c361b1e4",
   "metadata": {},
   "outputs": [],
   "source": [
    "# 13. What's the difference between tuples and lists?"
   ]
  },
  {
   "cell_type": "code",
   "execution_count": 21,
   "id": "cb380e64",
   "metadata": {},
   "outputs": [],
   "source": [
    "# # The biggest difference between lists & Tuples is that lIsts are mutable wheras Tuples are immutable.\n",
    "# # This means that tuples cannot be changed while the lists can be modified.Alongside Tuples are more memory efficient \n",
    "# than the lists."
   ]
  },
  {
   "cell_type": "code",
   "execution_count": 22,
   "id": "feea2daf",
   "metadata": {},
   "outputs": [],
   "source": [
    "# 14. How do you type a tuple value that only contains the integer 42?"
   ]
  },
  {
   "cell_type": "code",
   "execution_count": 31,
   "id": "114129d7",
   "metadata": {},
   "outputs": [],
   "source": [
    "a=(42,)\n",
    "\n",
    "# for creating a tuple with single element you will have to include the final comma after the element"
   ]
  },
  {
   "cell_type": "code",
   "execution_count": 32,
   "id": "fbbe0f3d",
   "metadata": {},
   "outputs": [
    {
     "data": {
      "text/plain": [
       "(42,)"
      ]
     },
     "execution_count": 32,
     "metadata": {},
     "output_type": "execute_result"
    }
   ],
   "source": [
    "a"
   ]
  },
  {
   "cell_type": "code",
   "execution_count": 33,
   "id": "1c48683a",
   "metadata": {},
   "outputs": [
    {
     "data": {
      "text/plain": [
       "tuple"
      ]
     },
     "execution_count": 33,
     "metadata": {},
     "output_type": "execute_result"
    }
   ],
   "source": [
    "type(a)"
   ]
  },
  {
   "cell_type": "code",
   "execution_count": 34,
   "id": "d8899fc8",
   "metadata": {},
   "outputs": [],
   "source": [
    "# 15. How do you get a list value's tuple form? How do you get a tuple value's list form?\n"
   ]
  },
  {
   "cell_type": "code",
   "execution_count": 35,
   "id": "ea5db257",
   "metadata": {},
   "outputs": [
    {
     "data": {
      "text/plain": [
       "[1, 3, 5, 6, 7]"
      ]
     },
     "execution_count": 35,
     "metadata": {},
     "output_type": "execute_result"
    }
   ],
   "source": [
    "l1"
   ]
  },
  {
   "cell_type": "code",
   "execution_count": 36,
   "id": "17c17102",
   "metadata": {},
   "outputs": [
    {
     "data": {
      "text/plain": [
       "(1, 3, 5, 6, 7)"
      ]
     },
     "execution_count": 36,
     "metadata": {},
     "output_type": "execute_result"
    }
   ],
   "source": [
    "tuple(l1)"
   ]
  },
  {
   "cell_type": "code",
   "execution_count": 38,
   "id": "f326aac4",
   "metadata": {},
   "outputs": [],
   "source": [
    "l2=(1,2,3,4)"
   ]
  },
  {
   "cell_type": "code",
   "execution_count": 39,
   "id": "f452e9ea",
   "metadata": {},
   "outputs": [
    {
     "data": {
      "text/plain": [
       "(1, 2, 3, 4)"
      ]
     },
     "execution_count": 39,
     "metadata": {},
     "output_type": "execute_result"
    }
   ],
   "source": [
    "l2"
   ]
  },
  {
   "cell_type": "code",
   "execution_count": 40,
   "id": "1b8d8738",
   "metadata": {},
   "outputs": [
    {
     "data": {
      "text/plain": [
       "[1, 2, 3, 4]"
      ]
     },
     "execution_count": 40,
     "metadata": {},
     "output_type": "execute_result"
    }
   ],
   "source": [
    "list(l2)"
   ]
  },
  {
   "cell_type": "code",
   "execution_count": 41,
   "id": "742a07cd",
   "metadata": {},
   "outputs": [],
   "source": [
    "# 16. Variables that \"contain\" list values are not necessarily lists themselves. Instead, what do they contain?\n"
   ]
  },
  {
   "cell_type": "code",
   "execution_count": 42,
   "id": "2b145c77",
   "metadata": {},
   "outputs": [],
   "source": [
    "# They contain reference to list values"
   ]
  },
  {
   "cell_type": "code",
   "execution_count": 43,
   "id": "26e076c3",
   "metadata": {},
   "outputs": [],
   "source": [
    "# 17. How do you distinguish between copy.copy() and copy.deepcopy()?\n"
   ]
  },
  {
   "cell_type": "code",
   "execution_count": 44,
   "id": "5cb026f5",
   "metadata": {},
   "outputs": [],
   "source": [
    "# The copy.copy() function will do a shallow copy of a list,\n",
    "# while the copy.deepcopy() function will do a deep copy of a list.\n",
    "# That is, only copy.deepcopy() will duplicate any lists inside the list.\n",
    "\n",
    "\n"
   ]
  },
  {
   "cell_type": "code",
   "execution_count": null,
   "id": "b4e1fb3f",
   "metadata": {},
   "outputs": [],
   "source": []
  }
 ],
 "metadata": {
  "kernelspec": {
   "display_name": "Python 3 (ipykernel)",
   "language": "python",
   "name": "python3"
  },
  "language_info": {
   "codemirror_mode": {
    "name": "ipython",
    "version": 3
   },
   "file_extension": ".py",
   "mimetype": "text/x-python",
   "name": "python",
   "nbconvert_exporter": "python",
   "pygments_lexer": "ipython3",
   "version": "3.9.7"
  }
 },
 "nbformat": 4,
 "nbformat_minor": 5
}
