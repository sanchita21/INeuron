{
 "cells": [
  {
   "cell_type": "code",
   "execution_count": 1,
   "id": "850b0257",
   "metadata": {},
   "outputs": [],
   "source": [
    "# 1. What does RGBA stand for?"
   ]
  },
  {
   "cell_type": "code",
   "execution_count": 2,
   "id": "aca15dc1",
   "metadata": {},
   "outputs": [],
   "source": [
    "# RGBA stands for Red, Blue, Green and Alpha(transparency)"
   ]
  },
  {
   "cell_type": "code",
   "execution_count": 3,
   "id": "76cea08b",
   "metadata": {},
   "outputs": [],
   "source": [
    "# 2. From the Pillow module, how do you get the RGBA value of any images?"
   ]
  },
  {
   "cell_type": "code",
   "execution_count": 4,
   "id": "5971513d",
   "metadata": {},
   "outputs": [],
   "source": [
    "from PIL import Image"
   ]
  },
  {
   "cell_type": "code",
   "execution_count": 6,
   "id": "3969c0ae",
   "metadata": {},
   "outputs": [],
   "source": [
    "catim=Image.open('zophie.png')"
   ]
  },
  {
   "cell_type": "code",
   "execution_count": 8,
   "id": "73699bc3",
   "metadata": {},
   "outputs": [],
   "source": [
    "pix_val = list(catim.getdata())\n",
    "\n",
    "# getiing the RGBA valueb="
   ]
  },
  {
   "cell_type": "code",
   "execution_count": null,
   "id": "a0122aff",
   "metadata": {},
   "outputs": [],
   "source": [
    "for x in pix_val:\n",
    "    print(x)"
   ]
  },
  {
   "cell_type": "code",
   "execution_count": 12,
   "id": "b9288125",
   "metadata": {},
   "outputs": [],
   "source": [
    "# 3. What is a box tuple, and how does it work?"
   ]
  },
  {
   "cell_type": "code",
   "execution_count": 13,
   "id": "7e2762f7",
   "metadata": {},
   "outputs": [],
   "source": [
    "# Many of Pillow’s functions and methods take a box tuple argument. This means Pillow is expecting a tuple of four\n",
    "# integer coordinates that represent a rectangular region in an image. The four integers are, in order, as follows:\n",
    "\n",
    "#  Left The x-coordinate of the leftmost edge of the box.\n",
    "\n",
    "# Top The y-coordinate of the top edge of the box.\n",
    "\n",
    "# Right The x-coordinate of one pixel to the right of the rightmost edge of the box. This integer must be greater than \n",
    " # the left integer\n",
    "# Bottom The y-coordinate of one pixel lower than the bottom edge of the box. This integer must be greater than the\n",
    "# top integer."
   ]
  },
  {
   "cell_type": "code",
   "execution_count": 14,
   "id": "31bbeb78",
   "metadata": {},
   "outputs": [],
   "source": [
    "# 4. Use your image and load in notebook then, How can you find out the width and height of an\n",
    "# Image object?"
   ]
  },
  {
   "cell_type": "code",
   "execution_count": 56,
   "id": "242b6016",
   "metadata": {},
   "outputs": [],
   "source": [
    "image_m=Image.open('zophie.png')"
   ]
  },
  {
   "cell_type": "code",
   "execution_count": 57,
   "id": "22fe4f79",
   "metadata": {},
   "outputs": [],
   "source": [
    "width,height=image_m.size"
   ]
  },
  {
   "cell_type": "code",
   "execution_count": 58,
   "id": "92a3efd0",
   "metadata": {},
   "outputs": [
    {
     "name": "stdout",
     "output_type": "stream",
     "text": [
      "816 1088\n"
     ]
    }
   ],
   "source": [
    "print(width,height)"
   ]
  },
  {
   "cell_type": "code",
   "execution_count": 59,
   "id": "8c524125",
   "metadata": {},
   "outputs": [],
   "source": [
    "# 5. What method would you call to get Image object for a 100×100 image, excluding the lower-left\n",
    "# quarter of it?"
   ]
  },
  {
   "cell_type": "code",
   "execution_count": 60,
   "id": "f3c9f373",
   "metadata": {},
   "outputs": [],
   "source": [
    "cropped=image_m.crop((0, 50, 50, 50))\n",
    "\n",
    "#Notice that you are passing a box tuple to crop(), not four separate integer arguments."
   ]
  },
  {
   "cell_type": "code",
   "execution_count": 62,
   "id": "153eb184",
   "metadata": {},
   "outputs": [],
   "source": [
    "# 6. After making changes to an Image object, how could you save it as an image file?"
   ]
  },
  {
   "cell_type": "code",
   "execution_count": null,
   "id": "36ab1e6f",
   "metadata": {},
   "outputs": [],
   "source": [
    "imageObj.save('new_filename.png')"
   ]
  },
  {
   "cell_type": "code",
   "execution_count": 63,
   "id": "770e5771",
   "metadata": {},
   "outputs": [],
   "source": [
    "# 7. What module contains Pillow’s shape-drawing code?"
   ]
  },
  {
   "cell_type": "code",
   "execution_count": 64,
   "id": "76e3bafc",
   "metadata": {},
   "outputs": [],
   "source": [
    "# # ImageDraw module\n",
    "\n",
    "# ImageDraw’ module provides simple 2D graphics support for Image Object. Generally, we use this module to create new images,\n",
    "# annotate or retouch existing images and to generate graphics on the fly for web use."
   ]
  },
  {
   "cell_type": "code",
   "execution_count": 65,
   "id": "b75a2bf6",
   "metadata": {},
   "outputs": [],
   "source": [
    "# 8. Image objects do not have drawing methods. What kind of object does? How do you get this kind\n",
    "# of object?"
   ]
  },
  {
   "cell_type": "code",
   "execution_count": null,
   "id": "ae90fa1f",
   "metadata": {},
   "outputs": [],
   "source": [
    "# # ImageDraw objects have shape-drawing methods such as point(), line(), or rectangle().\n",
    "# They are returned by passing the Image object to the ImageDraw.Draw() function.\n",
    "\n"
   ]
  }
 ],
 "metadata": {
  "kernelspec": {
   "display_name": "Python 3 (ipykernel)",
   "language": "python",
   "name": "python3"
  },
  "language_info": {
   "codemirror_mode": {
    "name": "ipython",
    "version": 3
   },
   "file_extension": ".py",
   "mimetype": "text/x-python",
   "name": "python",
   "nbconvert_exporter": "python",
   "pygments_lexer": "ipython3",
   "version": "3.9.7"
  }
 },
 "nbformat": 4,
 "nbformat_minor": 5
}
