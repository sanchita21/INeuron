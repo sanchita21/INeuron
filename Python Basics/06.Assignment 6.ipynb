{
 "cells": [
  {
   "cell_type": "code",
   "execution_count": 1,
   "id": "bdeb9a60",
   "metadata": {},
   "outputs": [],
   "source": [
    "# 1. What are escape characters, and how do you use them?"
   ]
  },
  {
   "cell_type": "code",
   "execution_count": 1,
   "id": "88aa8a96",
   "metadata": {},
   "outputs": [],
   "source": [
    "# Escape character in python is referred to \\(backslash character).As the name suggests,\n",
    "# the escape character escapes the characters in a string for a brief moment to introduce unique inclusion.\n",
    "# so whenever we need to have to indicate a new line we use \\n"
   ]
  },
  {
   "cell_type": "code",
   "execution_count": 2,
   "id": "84372eba",
   "metadata": {},
   "outputs": [],
   "source": [
    "# 2. What do the escape characters n and t stand for?"
   ]
  },
  {
   "cell_type": "code",
   "execution_count": 10,
   "id": "d8902ed7",
   "metadata": {},
   "outputs": [],
   "source": [
    "# \\n is used toprint a new line\n",
    "# \\t is used to give  a tab space between the words"
   ]
  },
  {
   "cell_type": "code",
   "execution_count": 7,
   "id": "4f8515e0",
   "metadata": {},
   "outputs": [
    {
     "name": "stdout",
     "output_type": "stream",
     "text": [
      "clo\tse\n"
     ]
    }
   ],
   "source": [
    "print(\"clo\\tse\" )"
   ]
  },
  {
   "cell_type": "code",
   "execution_count": 9,
   "id": "429b7932",
   "metadata": {},
   "outputs": [
    {
     "name": "stdout",
     "output_type": "stream",
     "text": [
      "check\n",
      "ok\n"
     ]
    }
   ],
   "source": [
    "print(\"check\\nok\")"
   ]
  },
  {
   "cell_type": "code",
   "execution_count": 11,
   "id": "5ee55b63",
   "metadata": {},
   "outputs": [],
   "source": [
    "# 3. What is the way to include backslash characters in a string?"
   ]
  },
  {
   "cell_type": "code",
   "execution_count": 13,
   "id": "11dd6708",
   "metadata": {},
   "outputs": [
    {
     "name": "stdout",
     "output_type": "stream",
     "text": [
      "check\\ok\n"
     ]
    }
   ],
   "source": [
    "# use double backslash \\\\ to print a blackslash character\n",
    "\n",
    "print(\"check\\\\ok\")"
   ]
  },
  {
   "cell_type": "code",
   "execution_count": 16,
   "id": "c2324c6e",
   "metadata": {},
   "outputs": [],
   "source": [
    "# # 4. The string \"Howl's Moving Castle\" is a correct value. \n",
    "# Why isn't the single quote character in the word Howl's not escaped a problem?"
   ]
  },
  {
   "cell_type": "code",
   "execution_count": 17,
   "id": "5ed2d83e",
   "metadata": {},
   "outputs": [
    {
     "name": "stdout",
     "output_type": "stream",
     "text": [
      "howl's Moving Castle\n"
     ]
    }
   ],
   "source": [
    "print(\"howl's Moving Castle\")"
   ]
  },
  {
   "cell_type": "code",
   "execution_count": 18,
   "id": "4b075f46",
   "metadata": {},
   "outputs": [],
   "source": [
    "# this is because we have used double quotes in the print statement"
   ]
  },
  {
   "cell_type": "code",
   "execution_count": 20,
   "id": "87d1da67",
   "metadata": {},
   "outputs": [],
   "source": [
    "# 5. How do you write a string of newlines if you don't want to use the n character?"
   ]
  },
  {
   "cell_type": "code",
   "execution_count": 30,
   "id": "624867a8",
   "metadata": {},
   "outputs": [
    {
     "name": "stdout",
     "output_type": "stream",
     "text": [
      "check ok\n",
      "chek2\n"
     ]
    }
   ],
   "source": [
    "\n",
    "print(\"check ok\")\n",
    "print(\"chek2\")"
   ]
  },
  {
   "cell_type": "code",
   "execution_count": 29,
   "id": "9163c350",
   "metadata": {},
   "outputs": [],
   "source": [
    "# 6. What are the values of the given expressions?\n",
    "# 'Hello, world!'[1]\n",
    "# 'Hello, world!'[0:5]\n",
    "# 'Hello, world!'[:5]\n",
    "# 'Hello, world!'[3:]\n"
   ]
  },
  {
   "cell_type": "code",
   "execution_count": 31,
   "id": "4a1bf776",
   "metadata": {},
   "outputs": [
    {
     "data": {
      "text/plain": [
       "'e'"
      ]
     },
     "execution_count": 31,
     "metadata": {},
     "output_type": "execute_result"
    }
   ],
   "source": [
    "'Hello, world!'[1]"
   ]
  },
  {
   "cell_type": "code",
   "execution_count": 32,
   "id": "62638aaa",
   "metadata": {},
   "outputs": [
    {
     "data": {
      "text/plain": [
       "'Hello'"
      ]
     },
     "execution_count": 32,
     "metadata": {},
     "output_type": "execute_result"
    }
   ],
   "source": [
    "'Hello, world!'[0:5]"
   ]
  },
  {
   "cell_type": "code",
   "execution_count": 33,
   "id": "78982ec6",
   "metadata": {},
   "outputs": [
    {
     "data": {
      "text/plain": [
       "'Hello'"
      ]
     },
     "execution_count": 33,
     "metadata": {},
     "output_type": "execute_result"
    }
   ],
   "source": [
    "'Hello, world!'[:5]"
   ]
  },
  {
   "cell_type": "code",
   "execution_count": 34,
   "id": "40987012",
   "metadata": {},
   "outputs": [
    {
     "data": {
      "text/plain": [
       "'lo, world!'"
      ]
     },
     "execution_count": 34,
     "metadata": {},
     "output_type": "execute_result"
    }
   ],
   "source": [
    "'Hello, world!'[3:]"
   ]
  },
  {
   "cell_type": "code",
   "execution_count": 35,
   "id": "5f464871",
   "metadata": {},
   "outputs": [],
   "source": [
    "# 7. What are the values of the following expressions?\n",
    "# 'Hello'.upper()\n",
    "# 'Hello'.upper().isupper()\n",
    "# 'Hello'.upper().lower()\n"
   ]
  },
  {
   "cell_type": "code",
   "execution_count": 36,
   "id": "0c875283",
   "metadata": {},
   "outputs": [
    {
     "data": {
      "text/plain": [
       "'HELLO'"
      ]
     },
     "execution_count": 36,
     "metadata": {},
     "output_type": "execute_result"
    }
   ],
   "source": [
    "'Hello'.upper()"
   ]
  },
  {
   "cell_type": "code",
   "execution_count": 37,
   "id": "ebce5636",
   "metadata": {},
   "outputs": [
    {
     "data": {
      "text/plain": [
       "True"
      ]
     },
     "execution_count": 37,
     "metadata": {},
     "output_type": "execute_result"
    }
   ],
   "source": [
    " 'Hello'.upper().isupper()"
   ]
  },
  {
   "cell_type": "code",
   "execution_count": 38,
   "id": "9aba8ace",
   "metadata": {},
   "outputs": [
    {
     "data": {
      "text/plain": [
       "'hello'"
      ]
     },
     "execution_count": 38,
     "metadata": {},
     "output_type": "execute_result"
    }
   ],
   "source": [
    "'Hello'.upper().lower()"
   ]
  },
  {
   "cell_type": "code",
   "execution_count": 39,
   "id": "349899bd",
   "metadata": {},
   "outputs": [],
   "source": [
    "# 8. What are the values of the following expressions?\n",
    "# 'Remember, remember, the fifth of July.'.split()\n",
    "# '-'.join('There can only one.'.split())\n"
   ]
  },
  {
   "cell_type": "code",
   "execution_count": 40,
   "id": "152da526",
   "metadata": {},
   "outputs": [
    {
     "data": {
      "text/plain": [
       "['Remember,', 'remember,', 'the', 'fifth', 'of', 'July.']"
      ]
     },
     "execution_count": 40,
     "metadata": {},
     "output_type": "execute_result"
    }
   ],
   "source": [
    "'Remember, remember, the fifth of July.'.split()"
   ]
  },
  {
   "cell_type": "code",
   "execution_count": 41,
   "id": "2fcf9dac",
   "metadata": {},
   "outputs": [
    {
     "data": {
      "text/plain": [
       "'There-can-only-one.'"
      ]
     },
     "execution_count": 41,
     "metadata": {},
     "output_type": "execute_result"
    }
   ],
   "source": [
    "'-'.join('There can only one.'.split())"
   ]
  },
  {
   "cell_type": "code",
   "execution_count": 43,
   "id": "17f8ab5a",
   "metadata": {},
   "outputs": [],
   "source": [
    "# 9. What are the methods for right-justifying, left-justifying, and centering a string?\n"
   ]
  },
  {
   "cell_type": "code",
   "execution_count": 49,
   "id": "11988ade",
   "metadata": {},
   "outputs": [],
   "source": [
    "t= \"hello world\""
   ]
  },
  {
   "cell_type": "code",
   "execution_count": 50,
   "id": "aecdb837",
   "metadata": {},
   "outputs": [
    {
     "data": {
      "text/plain": [
       "'hello world'"
      ]
     },
     "execution_count": 50,
     "metadata": {},
     "output_type": "execute_result"
    }
   ],
   "source": [
    "t"
   ]
  },
  {
   "cell_type": "code",
   "execution_count": 57,
   "id": "f5e2f75e",
   "metadata": {},
   "outputs": [
    {
     "data": {
      "text/plain": [
       "'  hello world  '"
      ]
     },
     "execution_count": 57,
     "metadata": {},
     "output_type": "execute_result"
    }
   ],
   "source": [
    "t.center(15,\" \")\n",
    "\n",
    "# centering the string"
   ]
  },
  {
   "cell_type": "code",
   "execution_count": 58,
   "id": "8fa02345",
   "metadata": {},
   "outputs": [
    {
     "data": {
      "text/plain": [
       "'    hello world'"
      ]
     },
     "execution_count": 58,
     "metadata": {},
     "output_type": "execute_result"
    }
   ],
   "source": [
    "t.rjust(15,\" \")\n",
    "\n",
    "# right justifying the string"
   ]
  },
  {
   "cell_type": "code",
   "execution_count": 59,
   "id": "deb01aeb",
   "metadata": {},
   "outputs": [
    {
     "data": {
      "text/plain": [
       "'hello world    '"
      ]
     },
     "execution_count": 59,
     "metadata": {},
     "output_type": "execute_result"
    }
   ],
   "source": [
    "t.ljust(15,\" \")\n",
    "\n",
    "# left justfying the string"
   ]
  },
  {
   "cell_type": "code",
   "execution_count": 60,
   "id": "23f9391d",
   "metadata": {},
   "outputs": [],
   "source": [
    "# 10. What is the best way to remove whitespace characters from the start or end?\n"
   ]
  },
  {
   "cell_type": "code",
   "execution_count": 61,
   "id": "1cf9efe6",
   "metadata": {},
   "outputs": [],
   "source": [
    "l=\"  ok google  \""
   ]
  },
  {
   "cell_type": "code",
   "execution_count": 62,
   "id": "f6d5669f",
   "metadata": {},
   "outputs": [
    {
     "data": {
      "text/plain": [
       "'  ok google  '"
      ]
     },
     "execution_count": 62,
     "metadata": {},
     "output_type": "execute_result"
    }
   ],
   "source": [
    "l"
   ]
  },
  {
   "cell_type": "code",
   "execution_count": 65,
   "id": "ccd3c0f0",
   "metadata": {},
   "outputs": [
    {
     "data": {
      "text/plain": [
       "'ok google'"
      ]
     },
     "execution_count": 65,
     "metadata": {},
     "output_type": "execute_result"
    }
   ],
   "source": [
    "l.strip()\n",
    "\n",
    "# strip() gets rid of whitespaces "
   ]
  },
  {
   "cell_type": "code",
   "execution_count": null,
   "id": "e0545203",
   "metadata": {},
   "outputs": [],
   "source": []
  }
 ],
 "metadata": {
  "kernelspec": {
   "display_name": "Python 3 (ipykernel)",
   "language": "python",
   "name": "python3"
  },
  "language_info": {
   "codemirror_mode": {
    "name": "ipython",
    "version": 3
   },
   "file_extension": ".py",
   "mimetype": "text/x-python",
   "name": "python",
   "nbconvert_exporter": "python",
   "pygments_lexer": "ipython3",
   "version": "3.9.7"
  }
 },
 "nbformat": 4,
 "nbformat_minor": 5
}
