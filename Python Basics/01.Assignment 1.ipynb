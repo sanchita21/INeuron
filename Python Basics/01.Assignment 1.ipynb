{
 "cells": [
  {
   "cell_type": "code",
   "execution_count": null,
   "id": "585db17a",
   "metadata": {},
   "outputs": [],
   "source": [
    "#  1. In the below elements which of them are values or an expression? eg:- values can be integer or string and expressions \n",
    "#  will be mathematical operators.\n",
    "#   * \n",
    "#  'hello'\n",
    "#  -87.8\n",
    "#  - \n",
    "#  / \n",
    "#  6 \n",
    " \n",
    " "
   ]
  },
  {
   "cell_type": "code",
   "execution_count": 8,
   "id": "f4f0150b",
   "metadata": {},
   "outputs": [],
   "source": [
    "\n",
    "#   *   : Expression\n",
    "#  'hello': Value\n",
    "#  -87.8 : Value\n",
    "#  - : Expression\n",
    "#  / : Expression\n",
    "#  6 : Value\n",
    " "
   ]
  },
  {
   "cell_type": "code",
   "execution_count": 9,
   "id": "389f2250",
   "metadata": {},
   "outputs": [],
   "source": [
    "# 2. What is the difference between string and variable?"
   ]
  },
  {
   "cell_type": "code",
   "execution_count": 11,
   "id": "7bb6d0b2",
   "metadata": {},
   "outputs": [],
   "source": [
    "# A variable is a type where you can store values like int or string , whereas string is a type of information namely characters \n",
    "# which are stored in a variable"
   ]
  },
  {
   "cell_type": "code",
   "execution_count": 15,
   "id": "77b954fa",
   "metadata": {},
   "outputs": [],
   "source": [
    "# 3. Describe three different data types.\n"
   ]
  },
  {
   "cell_type": "code",
   "execution_count": 17,
   "id": "e33afdbd",
   "metadata": {},
   "outputs": [],
   "source": [
    "# Three different data types are:\n",
    "#     Integer e.g 1,2,3,4\n",
    "#     String e.g \"Ineuron\",\"India\"\n",
    "#     Boolean: True,False"
   ]
  },
  {
   "cell_type": "code",
   "execution_count": 18,
   "id": "a15446e4",
   "metadata": {},
   "outputs": [],
   "source": [
    "# 4. What is an expression made up of? What do all expressions do?\n"
   ]
  },
  {
   "cell_type": "code",
   "execution_count": 19,
   "id": "a31fe6d4",
   "metadata": {},
   "outputs": [],
   "source": [
    "# Expressions are mathematical operators which helps us to do calculations e.g *: multiplication,/: division,-:substraction "
   ]
  },
  {
   "cell_type": "code",
   "execution_count": 20,
   "id": "e738c1f4",
   "metadata": {},
   "outputs": [],
   "source": [
    "# 5. This assignment statements, like spam = 10. What is the difference between an expression and a statement?"
   ]
  },
  {
   "cell_type": "code",
   "execution_count": 22,
   "id": "df60a6fd",
   "metadata": {},
   "outputs": [
    {
     "data": {
      "text/plain": [
       "10"
      ]
     },
     "execution_count": 22,
     "metadata": {},
     "output_type": "execute_result"
    }
   ],
   "source": [
    "spam =10\n",
    "spam"
   ]
  },
  {
   "cell_type": "code",
   "execution_count": 24,
   "id": "56aa673c",
   "metadata": {},
   "outputs": [],
   "source": [
    "# if you check the above code, we have assigned 10 int value to the spam named variable so here this is a statement \n",
    "#where we are assigning values but in expression we do mathematical calculations"
   ]
  },
  {
   "cell_type": "code",
   "execution_count": 25,
   "id": "2c52eeb9",
   "metadata": {},
   "outputs": [],
   "source": [
    "# 6. After running the following code, what does the variable bacon contain?\n",
    "# bacon = 22\n",
    "# bacon + 1\n"
   ]
  },
  {
   "cell_type": "code",
   "execution_count": 26,
   "id": "4dcec5d1",
   "metadata": {},
   "outputs": [],
   "source": [
    "bacon=12"
   ]
  },
  {
   "cell_type": "code",
   "execution_count": 27,
   "id": "41e1d95a",
   "metadata": {},
   "outputs": [
    {
     "data": {
      "text/plain": [
       "13"
      ]
     },
     "execution_count": 27,
     "metadata": {},
     "output_type": "execute_result"
    }
   ],
   "source": [
    "bacon+1"
   ]
  },
  {
   "cell_type": "code",
   "execution_count": 28,
   "id": "941f4ba3",
   "metadata": {},
   "outputs": [],
   "source": [
    "# 7. What should the values of the following two terms be?\n",
    "# 'spam' + 'spamspam'\n",
    "# 'spam' * 3\n"
   ]
  },
  {
   "cell_type": "code",
   "execution_count": 29,
   "id": "5e0e6089",
   "metadata": {},
   "outputs": [
    {
     "data": {
      "text/plain": [
       "'spamspamspam'"
      ]
     },
     "execution_count": 29,
     "metadata": {},
     "output_type": "execute_result"
    }
   ],
   "source": [
    "'spam'+'spamspam'"
   ]
  },
  {
   "cell_type": "code",
   "execution_count": 31,
   "id": "86c4be97",
   "metadata": {},
   "outputs": [
    {
     "data": {
      "text/plain": [
       "'spamspamspam'"
      ]
     },
     "execution_count": 31,
     "metadata": {},
     "output_type": "execute_result"
    }
   ],
   "source": [
    "'spam'*3"
   ]
  },
  {
   "cell_type": "code",
   "execution_count": 32,
   "id": "22044ab5",
   "metadata": {},
   "outputs": [],
   "source": [
    "# 8. Why is eggs a valid variable name while 100 is invalid?\n"
   ]
  },
  {
   "cell_type": "code",
   "execution_count": 33,
   "id": "178c8a22",
   "metadata": {},
   "outputs": [],
   "source": [
    "# Egg is a valid varibale because it is a madeof characters, while 100 is invalid as it is a number and variable cant start \n",
    "# with a number.\n",
    "# A variable name can only contain alpha-numeric characters and underscores (A-z, 0-9, and _ )\n"
   ]
  },
  {
   "cell_type": "code",
   "execution_count": 34,
   "id": "326c0c6a",
   "metadata": {},
   "outputs": [],
   "source": [
    "#9. What three functions can be used to get the integer, floating-point number, or string version of a value?"
   ]
  },
  {
   "cell_type": "code",
   "execution_count": 35,
   "id": "a2c08917",
   "metadata": {},
   "outputs": [],
   "source": [
    "n=123\n",
    "\n",
    "# int, str, Float can be used "
   ]
  },
  {
   "cell_type": "code",
   "execution_count": 36,
   "id": "b7b63adc",
   "metadata": {},
   "outputs": [
    {
     "data": {
      "text/plain": [
       "123"
      ]
     },
     "execution_count": 36,
     "metadata": {},
     "output_type": "execute_result"
    }
   ],
   "source": [
    "int(n)  "
   ]
  },
  {
   "cell_type": "code",
   "execution_count": 37,
   "id": "af905575",
   "metadata": {},
   "outputs": [
    {
     "data": {
      "text/plain": [
       "'123'"
      ]
     },
     "execution_count": 37,
     "metadata": {},
     "output_type": "execute_result"
    }
   ],
   "source": [
    "str(n)"
   ]
  },
  {
   "cell_type": "code",
   "execution_count": 38,
   "id": "d2e57382",
   "metadata": {},
   "outputs": [
    {
     "data": {
      "text/plain": [
       "123.0"
      ]
     },
     "execution_count": 38,
     "metadata": {},
     "output_type": "execute_result"
    }
   ],
   "source": [
    "float(n)"
   ]
  },
  {
   "cell_type": "code",
   "execution_count": 39,
   "id": "6e64ff14",
   "metadata": {},
   "outputs": [],
   "source": [
    "# #10 10. Why does this expression cause an error? How can you fix it?\n",
    "# 'I have eaten ' + 99 + ' burritos.'\n"
   ]
  },
  {
   "cell_type": "code",
   "execution_count": 40,
   "id": "3df59206",
   "metadata": {},
   "outputs": [
    {
     "ename": "TypeError",
     "evalue": "can only concatenate str (not \"int\") to str",
     "output_type": "error",
     "traceback": [
      "\u001b[1;31m---------------------------------------------------------------------------\u001b[0m",
      "\u001b[1;31mTypeError\u001b[0m                                 Traceback (most recent call last)",
      "\u001b[1;32m~\\AppData\\Local\\Temp/ipykernel_17672/1774935878.py\u001b[0m in \u001b[0;36m<module>\u001b[1;34m\u001b[0m\n\u001b[1;32m----> 1\u001b[1;33m \u001b[1;34m'I have eaten '\u001b[0m \u001b[1;33m+\u001b[0m \u001b[1;36m99\u001b[0m \u001b[1;33m+\u001b[0m \u001b[1;34m' burritos.'\u001b[0m\u001b[1;33m\u001b[0m\u001b[1;33m\u001b[0m\u001b[0m\n\u001b[0m",
      "\u001b[1;31mTypeError\u001b[0m: can only concatenate str (not \"int\") to str"
     ]
    }
   ],
   "source": [
    "'I have eaten ' + 99 + ' burritos.'"
   ]
  },
  {
   "cell_type": "code",
   "execution_count": 41,
   "id": "b5228cf2",
   "metadata": {},
   "outputs": [],
   "source": [
    "# This causes error as we are trying to concatenate string with integer\n"
   ]
  },
  {
   "cell_type": "code",
   "execution_count": 43,
   "id": "69d5da1a",
   "metadata": {},
   "outputs": [
    {
     "data": {
      "text/plain": [
       "'I have eaten 99 burritos.'"
      ]
     },
     "execution_count": 43,
     "metadata": {},
     "output_type": "execute_result"
    }
   ],
   "source": [
    "'I have eaten ' + '99' + ' burritos.'\n",
    "# if we convert it to string it will work"
   ]
  },
  {
   "cell_type": "code",
   "execution_count": null,
   "id": "f8f3122c",
   "metadata": {},
   "outputs": [],
   "source": []
  }
 ],
 "metadata": {
  "kernelspec": {
   "display_name": "Python 3 (ipykernel)",
   "language": "python",
   "name": "python3"
  },
  "language_info": {
   "codemirror_mode": {
    "name": "ipython",
    "version": 3
   },
   "file_extension": ".py",
   "mimetype": "text/x-python",
   "name": "python",
   "nbconvert_exporter": "python",
   "pygments_lexer": "ipython3",
   "version": "3.9.7"
  }
 },
 "nbformat": 4,
 "nbformat_minor": 5
}
