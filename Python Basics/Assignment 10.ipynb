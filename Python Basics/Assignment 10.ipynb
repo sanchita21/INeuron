{
 "cells": [
  {
   "cell_type": "code",
   "execution_count": 1,
   "id": "1921652a",
   "metadata": {},
   "outputs": [],
   "source": [
    "\n",
    "# 1. How do you distinguish between shutil.copy() and shutil.copytree()?"
   ]
  },
  {
   "cell_type": "code",
   "execution_count": 2,
   "id": "9fc2d217",
   "metadata": {},
   "outputs": [],
   "source": [
    "# # While shutil. copy() will copy a single file, shutil. \n",
    "# copytree() will copy an entire folder and every folder and file contained in it."
   ]
  },
  {
   "cell_type": "code",
   "execution_count": 3,
   "id": "cfa1d2f4",
   "metadata": {},
   "outputs": [],
   "source": [
    "# 2. What function is used to rename files??"
   ]
  },
  {
   "cell_type": "code",
   "execution_count": 4,
   "id": "1569268e",
   "metadata": {},
   "outputs": [],
   "source": [
    "# rename() method in Python is used to rename a file or directory"
   ]
  },
  {
   "cell_type": "code",
   "execution_count": 5,
   "id": "057784df",
   "metadata": {},
   "outputs": [],
   "source": [
    "# 3. What is the difference between the delete functions in the send2trash and shutil modules?"
   ]
  },
  {
   "cell_type": "code",
   "execution_count": 6,
   "id": "f6a76bfe",
   "metadata": {},
   "outputs": [],
   "source": [
    "# The send2trash functions will move a file or folder to the recycle bin,\n",
    "# while shutil functions will permanently delete files and folders."
   ]
  },
  {
   "cell_type": "code",
   "execution_count": 7,
   "id": "e5fde62a",
   "metadata": {},
   "outputs": [],
   "source": [
    "# 4.ZipFile objects have a close() method just like File objects’ close() method. What ZipFile method is\n",
    "# equivalent to File objects’ open() method?"
   ]
  },
  {
   "cell_type": "code",
   "execution_count": 8,
   "id": "e60158fa",
   "metadata": {},
   "outputs": [],
   "source": [
    "# The zipfile.ZipFile() function is equivalent to the open() function; \n",
    "# the first argument is the filename, and the second argument is the mode to \n",
    "# open the ZIP file in (read, write, or append)"
   ]
  },
  {
   "cell_type": "code",
   "execution_count": 9,
   "id": "c2ea8c89",
   "metadata": {},
   "outputs": [],
   "source": [
    "# 5. Create a programme that searches a folder tree for files with a certain file extension (such as .pdf\n",
    "# or .jpg). Copy these files from whatever location they are in to a new folder."
   ]
  },
  {
   "cell_type": "code",
   "execution_count": 10,
   "id": "4882001e",
   "metadata": {},
   "outputs": [
    {
     "name": "stdout",
     "output_type": "stream",
     "text": [
      "Looking in C:\\Users\\sanchita.deb\\Music\\INeuron\\Assignments\\Python Basics\\randomFolder for files with extensions of .php, .py\n"
     ]
    }
   ],
   "source": [
    "import os, shutil\n",
    "\n",
    "def selectiveCopy(folder, extensions, destFolder):\n",
    "\tfolder = os.path.abspath(folder)\n",
    "\tdestFolder = os.path.abspath(destFolder)\n",
    "\tprint('Looking in', folder, 'for files with extensions of', ', '.join(extensions))\n",
    "\tfor foldername, subfolders, filenames in os.walk(folder):\n",
    "\t\tfor filename in filenames:\n",
    "\t\t\tname, extension = os.path.splitext(filename)\n",
    "\t\t\tif extension in extensions:\n",
    "\t\t\t\tfileAbsPath = foldername + os.path.sep + filename\n",
    "\t\t\t\tprint('Coping', fileAbsPath, 'to', destFolder)\n",
    "\t\t\t\tshutil.copy(fileAbsPath, destFolder)\n",
    "\n",
    "extensions = ['.php', '.py']\n",
    "folder = 'randomFolder'\n",
    "destFolder = 'selectiveFolder'\n",
    "selectiveCopy(folder, extensions, destFolder)"
   ]
  },
  {
   "cell_type": "code",
   "execution_count": null,
   "id": "1fd3492e",
   "metadata": {},
   "outputs": [],
   "source": []
  }
 ],
 "metadata": {
  "kernelspec": {
   "display_name": "Python 3 (ipykernel)",
   "language": "python",
   "name": "python3"
  },
  "language_info": {
   "codemirror_mode": {
    "name": "ipython",
    "version": 3
   },
   "file_extension": ".py",
   "mimetype": "text/x-python",
   "name": "python",
   "nbconvert_exporter": "python",
   "pygments_lexer": "ipython3",
   "version": "3.9.7"
  }
 },
 "nbformat": 4,
 "nbformat_minor": 5
}
