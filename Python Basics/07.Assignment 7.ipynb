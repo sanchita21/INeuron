{
 "cells": [
  {
   "cell_type": "code",
   "execution_count": 1,
   "id": "ac9ab1c1",
   "metadata": {},
   "outputs": [],
   "source": [
    "# 1. What is the name of the feature responsible for generating Regex objects?\n"
   ]
  },
  {
   "cell_type": "code",
   "execution_count": 2,
   "id": "3d75b485",
   "metadata": {},
   "outputs": [],
   "source": [
    "# re.compile() function generates regex objects"
   ]
  },
  {
   "cell_type": "code",
   "execution_count": 3,
   "id": "0f39ffc8",
   "metadata": {},
   "outputs": [],
   "source": [
    "# 2. Why do raw strings often appear in Regex objects?\n"
   ]
  },
  {
   "cell_type": "code",
   "execution_count": 2,
   "id": "3a2fd7b1",
   "metadata": {},
   "outputs": [],
   "source": [
    "# Raw strings are used so that backslashes do not have to be escaped.\n",
    "\n",
    "# Raw string treats backslash as literal meaning and not print a new line when we type /n\n"
   ]
  },
  {
   "cell_type": "code",
   "execution_count": 13,
   "id": "786290c8",
   "metadata": {},
   "outputs": [
    {
     "name": "stdout",
     "output_type": "stream",
     "text": [
      "this is a \n",
      " new line\n"
     ]
    }
   ],
   "source": [
    "l=\"this is a \\n new line\"\n",
    "print(l)"
   ]
  },
  {
   "cell_type": "code",
   "execution_count": 15,
   "id": "da5facda",
   "metadata": {},
   "outputs": [
    {
     "name": "stdout",
     "output_type": "stream",
     "text": [
      "This is a \\n raw string\n"
     ]
    }
   ],
   "source": [
    "\n",
    "l1 = r\"This is a \\n raw string\"\n",
    "print(raw_dummy_str)\n",
    "\n",
    "\n",
    "# the alphabet r is used here in the beginning of the statement to denote raw string"
   ]
  },
  {
   "cell_type": "code",
   "execution_count": 16,
   "id": "2cc25732",
   "metadata": {},
   "outputs": [],
   "source": [
    "# 3. What is the return value of the search() method?\n"
   ]
  },
  {
   "cell_type": "code",
   "execution_count": 17,
   "id": "ea73be88",
   "metadata": {},
   "outputs": [],
   "source": [
    "import re"
   ]
  },
  {
   "cell_type": "code",
   "execution_count": 27,
   "id": "324e97e2",
   "metadata": {},
   "outputs": [
    {
     "name": "stdout",
     "output_type": "stream",
     "text": [
      "It\n"
     ]
    }
   ],
   "source": [
    "pattern = r'[iI]t'\n",
    "string = \"It was the best of times, it was the worst of times.\"\n",
    "location = re.search(pattern,string)\n",
    "print(location.group())"
   ]
  },
  {
   "cell_type": "code",
   "execution_count": 28,
   "id": "bc0a4f29",
   "metadata": {},
   "outputs": [],
   "source": [
    "# 4. From a Match item, how do you get the actual strings that match the pattern?\n"
   ]
  },
  {
   "cell_type": "code",
   "execution_count": 49,
   "id": "a68468b5",
   "metadata": {},
   "outputs": [],
   "source": [
    "pattern1 = r'[was]'\n",
    "string = \"was the best of times, it was the worst of times.\""
   ]
  },
  {
   "cell_type": "code",
   "execution_count": 50,
   "id": "020a75db",
   "metadata": {},
   "outputs": [],
   "source": [
    "actual_string=re.match(pattern1,string)\n",
    "\n",
    "# match only works in start of the string"
   ]
  },
  {
   "cell_type": "code",
   "execution_count": 53,
   "id": "fa54b46d",
   "metadata": {},
   "outputs": [
    {
     "name": "stdout",
     "output_type": "stream",
     "text": [
      "w\n"
     ]
    }
   ],
   "source": [
    "print(actual_string.group())"
   ]
  },
  {
   "cell_type": "code",
   "execution_count": 52,
   "id": "d8b31cca",
   "metadata": {},
   "outputs": [],
   "source": [
    "# The group() method returns strings of the matched text."
   ]
  },
  {
   "cell_type": "code",
   "execution_count": 54,
   "id": "41702b96",
   "metadata": {},
   "outputs": [],
   "source": [
    "# 5. In the regex which created from the r'(\\d\\d\\d)-(\\d\\d\\d-\\d\\d\\d\\d)', what does group zero cover? Group 2? Group 1?\n"
   ]
  },
  {
   "cell_type": "code",
   "execution_count": 55,
   "id": "6152ea7d",
   "metadata": {},
   "outputs": [],
   "source": [
    "# Group 0 is the entire match, group 1 covers the first set of parentheses, and group 2 covers the second set of parentheses."
   ]
  },
  {
   "cell_type": "code",
   "execution_count": 56,
   "id": "21dacb0f",
   "metadata": {},
   "outputs": [],
   "source": [
    "# # 6. In standard expression syntax, parentheses and intervals have distinct meanings.\n",
    "# How can you tell a regex that you want it to fit real parentheses and periods?\n"
   ]
  },
  {
   "cell_type": "code",
   "execution_count": 57,
   "id": "6e12adf4",
   "metadata": {},
   "outputs": [],
   "source": [
    "# Periods and parentheses can be escaped with a backslash: \\., \\(, and \\)."
   ]
  },
  {
   "cell_type": "code",
   "execution_count": 58,
   "id": "bb8412c2",
   "metadata": {},
   "outputs": [],
   "source": [
    "# 7. The findall() method returns a string list or a list of string tuples. What causes it to return one of the two options?"
   ]
  },
  {
   "cell_type": "code",
   "execution_count": 70,
   "id": "0564971c",
   "metadata": {},
   "outputs": [],
   "source": [
    "k=re.findall(pattern1,string)"
   ]
  },
  {
   "cell_type": "code",
   "execution_count": 71,
   "id": "3b931fcc",
   "metadata": {},
   "outputs": [],
   "source": [
    "# the findall method returns a string list "
   ]
  },
  {
   "cell_type": "code",
   "execution_count": 72,
   "id": "c7b41f03",
   "metadata": {},
   "outputs": [
    {
     "data": {
      "text/plain": [
       "list"
      ]
     },
     "execution_count": 72,
     "metadata": {},
     "output_type": "execute_result"
    }
   ],
   "source": [
    "type(k)"
   ]
  },
  {
   "cell_type": "code",
   "execution_count": 77,
   "id": "a7499076",
   "metadata": {},
   "outputs": [],
   "source": [
    "# If the regex has no groups, a list of strings is returned. If the regex has groups, a list of tuples of strings is returned."
   ]
  },
  {
   "cell_type": "code",
   "execution_count": 78,
   "id": "deed0e23",
   "metadata": {},
   "outputs": [],
   "source": [
    "# 8. In standard expressions, what does the | character mean?"
   ]
  },
  {
   "cell_type": "code",
   "execution_count": 80,
   "id": "885c963a",
   "metadata": {},
   "outputs": [],
   "source": [
    "# # | (the vertical bar) indicates alternation, that is, a given choice of alternatives. \n",
    "# In other words, this says “match an area code with parentheses or without them.”\n",
    "\n"
   ]
  },
  {
   "cell_type": "code",
   "execution_count": 81,
   "id": "bff7321b",
   "metadata": {},
   "outputs": [],
   "source": [
    "# 9. In regular expressions, what does the character stand for?"
   ]
  },
  {
   "cell_type": "code",
   "execution_count": 82,
   "id": "17f74ff9",
   "metadata": {},
   "outputs": [],
   "source": [
    "# character can be a series of character that specifies a search pattern in the text"
   ]
  },
  {
   "cell_type": "code",
   "execution_count": 83,
   "id": "00d86a75",
   "metadata": {},
   "outputs": [],
   "source": [
    "# 10.In regular expressions, what is the difference between the + and * characters?\n"
   ]
  },
  {
   "cell_type": "code",
   "execution_count": 95,
   "id": "18b997e5",
   "metadata": {},
   "outputs": [],
   "source": [
    "# The + matches one or more. The * matches zero or more."
   ]
  },
  {
   "cell_type": "code",
   "execution_count": 96,
   "id": "9090a139",
   "metadata": {},
   "outputs": [],
   "source": [
    "# 11. What is the difference between {4} and {4,5} in regular expression?\n"
   ]
  },
  {
   "cell_type": "code",
   "execution_count": 97,
   "id": "e029e8cd",
   "metadata": {},
   "outputs": [],
   "source": [
    "# The {3} matches exactly three instances of the preceding group. The {3,5} matches between three and five instances."
   ]
  },
  {
   "cell_type": "code",
   "execution_count": 98,
   "id": "ba964199",
   "metadata": {},
   "outputs": [],
   "source": [
    "# 12. What do you mean by the \\d, \\w, and \\s shorthand character classes signify in regular expressions?\n"
   ]
  },
  {
   "cell_type": "code",
   "execution_count": 99,
   "id": "bce1a0cb",
   "metadata": {},
   "outputs": [],
   "source": [
    "# The \\d, \\w, and \\s shorthand character classes match a single digit, word, or space character, respectively."
   ]
  },
  {
   "cell_type": "code",
   "execution_count": 100,
   "id": "b3068340",
   "metadata": {},
   "outputs": [],
   "source": [
    "# 13. What do means by \\D, \\W, and \\S shorthand character classes signify in regular expressions?\n"
   ]
  },
  {
   "cell_type": "code",
   "execution_count": 102,
   "id": "ff47346f",
   "metadata": {},
   "outputs": [],
   "source": [
    "# # The \\D, \\W, and \\S shorthand character classes match a single character that is not a digit, word, or space character,\n",
    "# respectively."
   ]
  },
  {
   "cell_type": "code",
   "execution_count": 103,
   "id": "87df8f2c",
   "metadata": {},
   "outputs": [],
   "source": [
    "# 14. What is the difference between .*? and .*?"
   ]
  },
  {
   "cell_type": "code",
   "execution_count": 105,
   "id": "5dda1e25",
   "metadata": {},
   "outputs": [],
   "source": [
    "# # <a></a>\n",
    "# # <(.*)> would match a></a where as <(.*?)> would match a. The latter stops after the first match of >. \n",
    "# It checks for one or 0 matches of .* followed by the next expression.\n",
    "\n",
    "# # The first expression <(.*)> doesn't stop when matching the first >. It will continue until the last match of >."
   ]
  },
  {
   "cell_type": "code",
   "execution_count": 106,
   "id": "dcc4a2da",
   "metadata": {},
   "outputs": [],
   "source": [
    "# 15. What is the syntax for matching both numbers and lowercase letters with a character class?\n"
   ]
  },
  {
   "cell_type": "code",
   "execution_count": 107,
   "id": "4ff7f2fb",
   "metadata": {},
   "outputs": [],
   "source": [
    "# Either [0-9a-z] or [a-z0-9]"
   ]
  },
  {
   "cell_type": "code",
   "execution_count": 108,
   "id": "2b9e50e0",
   "metadata": {},
   "outputs": [],
   "source": [
    "# 16. What is the procedure for making a normal expression in regax case insensitive?\n"
   ]
  },
  {
   "cell_type": "code",
   "execution_count": 109,
   "id": "2823e11c",
   "metadata": {},
   "outputs": [],
   "source": [
    "# Passing re.I or re.IGNORECASE as the second argument to re.compile() will make the matching case insensitive."
   ]
  },
  {
   "cell_type": "code",
   "execution_count": 110,
   "id": "6178912a",
   "metadata": {},
   "outputs": [],
   "source": [
    "# 17. What does the . character normally match? What does it match if re.DOTALL is passed as 2nd argument in re.compile()?\n"
   ]
  },
  {
   "cell_type": "code",
   "execution_count": 111,
   "id": "04c657e6",
   "metadata": {},
   "outputs": [],
   "source": [
    "# # The . character normally matches any character except the newline character. If re.DOTALL is\n",
    "# passed as the second argument to re.compile(), \n",
    "# then the dot will also match newline characters."
   ]
  },
  {
   "cell_type": "code",
   "execution_count": 112,
   "id": "634bc45c",
   "metadata": {},
   "outputs": [],
   "source": [
    "# 18. If numReg = re.compile(r'\\d+'), what will numRegex.sub('X', '11 drummers, 10 pipers, five rings, 4 hen') return?\n"
   ]
  },
  {
   "cell_type": "code",
   "execution_count": 113,
   "id": "f5c725d4",
   "metadata": {},
   "outputs": [],
   "source": [
    "# 'X drummers, X pipers, five rings, X hens'"
   ]
  },
  {
   "cell_type": "code",
   "execution_count": 114,
   "id": "b73bb530",
   "metadata": {},
   "outputs": [],
   "source": [
    "# 19. What does passing re.VERBOSE as the 2nd argument to re.compile() allow to do?\n"
   ]
  },
  {
   "cell_type": "code",
   "execution_count": 115,
   "id": "1760c1a9",
   "metadata": {},
   "outputs": [],
   "source": [
    "# The re.VERBOSE argument allows you to add whitespace and comments to the string passed to re.compile()."
   ]
  },
  {
   "cell_type": "code",
   "execution_count": 116,
   "id": "1a852e38",
   "metadata": {},
   "outputs": [],
   "source": [
    "# 20. How would you write a regex that match a number with comma for every three digits? It must match the given following:\n",
    "# '42'\n",
    "# '1,234'\n",
    "# '6,368,745'\n",
    "# but not the following:\n",
    "# '12,34,567' (which has only two digits between the commas)\n",
    "# '1234' (which lacks commas)\n"
   ]
  },
  {
   "cell_type": "code",
   "execution_count": 118,
   "id": "ac3c8036",
   "metadata": {},
   "outputs": [
    {
     "data": {
      "text/plain": [
       "'^\\\\d{1,3}(,\\\\d{3})*$'"
      ]
     },
     "execution_count": 118,
     "metadata": {},
     "output_type": "execute_result"
    }
   ],
   "source": [
    "(r'^\\d{1,3}(,\\d{3})*$')\n",
    "\n",
    "#re.compile will create this regex, but other regex strings can produce a similar regular expression."
   ]
  },
  {
   "cell_type": "code",
   "execution_count": 119,
   "id": "75f65a4a",
   "metadata": {},
   "outputs": [],
   "source": [
    "# # 21. How would you write a regex that matches the full name of someone whose last name is Watanabe? \n",
    "# You can assume that the first name that comes before it will always \n",
    "# be one word that begins with a capital letter. The regex must match the following:\n",
    "# # 'Haruto Watanabe'\n",
    "# # 'Alice Watanabe'\n",
    "# # 'RoboCop Watanabe'\n",
    "# # but not the following:\n",
    "# # 'haruto Watanabe' (where the first name is not capitalized)\n",
    "# # 'Mr. Watanabe' (where the preceding word has a nonletter character)\n",
    "# # 'Watanabe' (which has no first name)\n",
    "# # 'Haruto watanabe' (where Watanabe is not capitalized)\n"
   ]
  },
  {
   "cell_type": "code",
   "execution_count": 128,
   "id": "65604a4a",
   "metadata": {},
   "outputs": [],
   "source": [
    "k=re.compile(r'[A-Z][a-z]*\\sWatanabe')"
   ]
  },
  {
   "cell_type": "code",
   "execution_count": 129,
   "id": "155d57b3",
   "metadata": {},
   "outputs": [
    {
     "name": "stdout",
     "output_type": "stream",
     "text": [
      "re.compile('[A-Z][a-z]*\\\\sWatanabe')\n"
     ]
    }
   ],
   "source": [
    "print(k)"
   ]
  },
  {
   "cell_type": "code",
   "execution_count": 130,
   "id": "c5e616be",
   "metadata": {},
   "outputs": [],
   "source": [
    "# 22. How would you write a regex that matches a sentence where the first word is either Alice, Bob, or Carol; the second word is either eats, pets, or throws; the third word is apples, cats, or baseballs; and the sentence ends with a period? This regex should be case-insensitive. It must match the following:\n",
    "# 'Alice eats apples.'\n",
    "# 'Bob pets cats.'\n",
    "# 'Carol throws baseballs.'\n",
    "# 'Alice throws Apples.'\n",
    "# 'BOB EATS CATS.'\n",
    "# but not the following:\n",
    "# 'RoboCop eats apples.'\n",
    "# 'ALICE THROWS FOOTBALLS.'\n",
    "# 'Carol eats 7 cats.'\n"
   ]
  },
  {
   "cell_type": "code",
   "execution_count": 131,
   "id": "676444c9",
   "metadata": {},
   "outputs": [
    {
     "data": {
      "text/plain": [
       "re.compile(r'(Alice|Bob|Carol)\\s(eats|pets|throws)\\s(apples|cats|baseballs)\\.',\n",
       "re.IGNORECASE|re.UNICODE)"
      ]
     },
     "execution_count": 131,
     "metadata": {},
     "output_type": "execute_result"
    }
   ],
   "source": [
    "re.compile(r'(Alice|Bob|Carol)\\s(eats|pets|throws)\\s(apples|cats|baseballs)\\.', re.IGNORECASE)"
   ]
  },
  {
   "cell_type": "code",
   "execution_count": null,
   "id": "a3a550fa",
   "metadata": {},
   "outputs": [],
   "source": []
  }
 ],
 "metadata": {
  "kernelspec": {
   "display_name": "Python 3 (ipykernel)",
   "language": "python",
   "name": "python3"
  },
  "language_info": {
   "codemirror_mode": {
    "name": "ipython",
    "version": 3
   },
   "file_extension": ".py",
   "mimetype": "text/x-python",
   "name": "python",
   "nbconvert_exporter": "python",
   "pygments_lexer": "ipython3",
   "version": "3.9.7"
  }
 },
 "nbformat": 4,
 "nbformat_minor": 5
}
