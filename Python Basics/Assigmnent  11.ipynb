{
 "cells": [
  {
   "cell_type": "code",
   "execution_count": 1,
   "id": "5a4a4766",
   "metadata": {},
   "outputs": [],
   "source": [
    "# 1. Create an assert statement that throws an AssertionError if the variable spam is a negative integer.\n"
   ]
  },
  {
   "cell_type": "code",
   "execution_count": 5,
   "id": "a5a002f4",
   "metadata": {},
   "outputs": [
    {
     "ename": "AssertionError",
     "evalue": "",
     "output_type": "error",
     "traceback": [
      "\u001b[1;31m---------------------------------------------------------------------------\u001b[0m",
      "\u001b[1;31mAssertionError\u001b[0m                            Traceback (most recent call last)",
      "\u001b[1;32m~\\AppData\\Local\\Temp/ipykernel_11200/3654073010.py\u001b[0m in \u001b[0;36m<module>\u001b[1;34m\u001b[0m\n\u001b[0;32m      1\u001b[0m \u001b[0mx\u001b[0m\u001b[1;33m=\u001b[0m\u001b[1;36m0\u001b[0m\u001b[1;33m\u001b[0m\u001b[1;33m\u001b[0m\u001b[0m\n\u001b[1;32m----> 2\u001b[1;33m \u001b[1;32massert\u001b[0m \u001b[0mx\u001b[0m\u001b[1;33m>\u001b[0m\u001b[1;36m0\u001b[0m\u001b[1;33m\u001b[0m\u001b[1;33m\u001b[0m\u001b[0m\n\u001b[0m\u001b[0;32m      3\u001b[0m \u001b[0mprint\u001b[0m\u001b[1;33m(\u001b[0m\u001b[1;34m\"x is a positive interger\"\u001b[0m\u001b[1;33m,\u001b[0m\u001b[0mx\u001b[0m\u001b[1;33m)\u001b[0m\u001b[1;33m\u001b[0m\u001b[1;33m\u001b[0m\u001b[0m\n",
      "\u001b[1;31mAssertionError\u001b[0m: "
     ]
    }
   ],
   "source": [
    "x=0\n",
    "assert x>0\n",
    "print(\"x is a positive interger\",x)"
   ]
  },
  {
   "cell_type": "code",
   "execution_count": 7,
   "id": "0b44b4ef",
   "metadata": {},
   "outputs": [],
   "source": [
    "# # 2. Write an assert statement that triggers an AssertionError if the variables eggs and bacon contain strings\n",
    "# that are the same as each other, even if their cases are different\n",
    "# (that is, 'hello' and 'hello' are considered the same,and 'goodbye' and 'GOODbye' are also considered the same).\n"
   ]
  },
  {
   "cell_type": "code",
   "execution_count": 13,
   "id": "379c3276",
   "metadata": {},
   "outputs": [
    {
     "name": "stdout",
     "output_type": "stream",
     "text": [
      "enter a string 1: hello\n",
      "enter string 2 : Hello\n"
     ]
    },
    {
     "ename": "AssertionError",
     "evalue": "",
     "output_type": "error",
     "traceback": [
      "\u001b[1;31m---------------------------------------------------------------------------\u001b[0m",
      "\u001b[1;31mAssertionError\u001b[0m                            Traceback (most recent call last)",
      "\u001b[1;32m~\\AppData\\Local\\Temp/ipykernel_11200/817782185.py\u001b[0m in \u001b[0;36m<module>\u001b[1;34m\u001b[0m\n\u001b[0;32m      2\u001b[0m \u001b[0mbacon\u001b[0m\u001b[1;33m=\u001b[0m\u001b[0mstr\u001b[0m\u001b[1;33m(\u001b[0m\u001b[0minput\u001b[0m\u001b[1;33m(\u001b[0m\u001b[1;34m\"enter string 2 : \"\u001b[0m\u001b[1;33m)\u001b[0m\u001b[1;33m)\u001b[0m\u001b[1;33m\u001b[0m\u001b[1;33m\u001b[0m\u001b[0m\n\u001b[0;32m      3\u001b[0m \u001b[1;33m\u001b[0m\u001b[0m\n\u001b[1;32m----> 4\u001b[1;33m \u001b[1;32massert\u001b[0m \u001b[0meggs\u001b[0m\u001b[1;33m==\u001b[0m\u001b[0mbacon\u001b[0m\u001b[1;33m\u001b[0m\u001b[1;33m\u001b[0m\u001b[0m\n\u001b[0m\u001b[0;32m      5\u001b[0m \u001b[0mprint\u001b[0m\u001b[1;33m(\u001b[0m\u001b[1;34m\"eggs and bacon is same i.e \"\u001b[0m\u001b[1;33m,\u001b[0m\u001b[0meggs\u001b[0m\u001b[1;33m,\u001b[0m\u001b[0mbacon\u001b[0m\u001b[1;33m)\u001b[0m\u001b[1;33m\u001b[0m\u001b[1;33m\u001b[0m\u001b[0m\n",
      "\u001b[1;31mAssertionError\u001b[0m: "
     ]
    }
   ],
   "source": [
    "eggs=str(input(\"enter a string 1: \"))\n",
    "bacon=str(input(\"enter string 2 : \"))\n",
    "\n",
    "assert eggs==bacon\n",
    "print(\"eggs and bacon is same i.e \",eggs,bacon)"
   ]
  },
  {
   "cell_type": "code",
   "execution_count": 14,
   "id": "64361a20",
   "metadata": {},
   "outputs": [],
   "source": [
    "# 3. Create an assert statement that throws an AssertionError every time."
   ]
  },
  {
   "cell_type": "code",
   "execution_count": 22,
   "id": "72559253",
   "metadata": {},
   "outputs": [
    {
     "ename": "AssertionError",
     "evalue": "",
     "output_type": "error",
     "traceback": [
      "\u001b[1;31m---------------------------------------------------------------------------\u001b[0m",
      "\u001b[1;31mAssertionError\u001b[0m                            Traceback (most recent call last)",
      "\u001b[1;32m~\\AppData\\Local\\Temp/ipykernel_11200/4120734863.py\u001b[0m in \u001b[0;36m<module>\u001b[1;34m\u001b[0m\n\u001b[0;32m      1\u001b[0m \u001b[0mx\u001b[0m\u001b[1;33m=\u001b[0m\u001b[1;36m1\u001b[0m\u001b[1;33m\u001b[0m\u001b[1;33m\u001b[0m\u001b[0m\n\u001b[1;32m----> 2\u001b[1;33m \u001b[1;32massert\u001b[0m \u001b[0mx\u001b[0m\u001b[1;33m>\u001b[0m\u001b[1;36m1\u001b[0m\u001b[1;33m\u001b[0m\u001b[1;33m\u001b[0m\u001b[0m\n\u001b[0m\u001b[0;32m      3\u001b[0m \u001b[0mprint\u001b[0m\u001b[1;33m(\u001b[0m\u001b[1;34m\"assertion error\"\u001b[0m\u001b[1;33m)\u001b[0m\u001b[1;33m\u001b[0m\u001b[1;33m\u001b[0m\u001b[0m\n",
      "\u001b[1;31mAssertionError\u001b[0m: "
     ]
    }
   ],
   "source": [
    "x=1\n",
    "assert x>1\n",
    "print(\"assertion error\")"
   ]
  },
  {
   "cell_type": "code",
   "execution_count": 18,
   "id": "6decf836",
   "metadata": {},
   "outputs": [],
   "source": [
    "# 4. What are the two lines that must be present in your software in order to call logging.debug()?\n"
   ]
  },
  {
   "cell_type": "code",
   "execution_count": 23,
   "id": "2265966e",
   "metadata": {},
   "outputs": [],
   "source": [
    "\n",
    "import logging \n",
    "logging.basicConfig(level=logging.DEBUG, format=' %(asctime)s - %(levelname)s - %(message)s')\n"
   ]
  },
  {
   "cell_type": "code",
   "execution_count": 24,
   "id": "8484264c",
   "metadata": {},
   "outputs": [],
   "source": [
    "# # 5. What are the two lines that your program must have in order to have logging.debug()\n",
    "# send a logging message to a file named programLog.txt?\n"
   ]
  },
  {
   "cell_type": "code",
   "execution_count": 25,
   "id": "43e7bcca",
   "metadata": {},
   "outputs": [],
   "source": [
    "import logging\n",
    "logging.basicConfig(filename='programLog.txt', level=logging.DEBUG, format=' %(asctime)s - %(levelname)s - %(message)s')"
   ]
  },
  {
   "cell_type": "code",
   "execution_count": 26,
   "id": "4a3667d6",
   "metadata": {},
   "outputs": [],
   "source": [
    "# 6. What are the five levels of logging?\n"
   ]
  },
  {
   "cell_type": "code",
   "execution_count": 28,
   "id": "cfad1af9",
   "metadata": {},
   "outputs": [],
   "source": [
    "# DEBUG\n",
    "# INFO\n",
    "# WARNING\n",
    "# CRITICAL\n",
    "# ERROR"
   ]
  },
  {
   "cell_type": "code",
   "execution_count": 29,
   "id": "b4c1d2d0",
   "metadata": {},
   "outputs": [],
   "source": [
    "# 7. What line of code would you add to your software to disable all logging messages?\n"
   ]
  },
  {
   "cell_type": "code",
   "execution_count": 30,
   "id": "ff3b6859",
   "metadata": {},
   "outputs": [],
   "source": [
    "# logging.disable(logging.CRITICAL)"
   ]
  },
  {
   "cell_type": "code",
   "execution_count": 31,
   "id": "72e51835",
   "metadata": {},
   "outputs": [],
   "source": [
    "# 8.Why is using logging messages better than using print() to display the same message?"
   ]
  },
  {
   "cell_type": "code",
   "execution_count": 33,
   "id": "41e0cf7d",
   "metadata": {},
   "outputs": [],
   "source": [
    "# -Logging is better than print as logging gives more better view of the error encoutered in the code and you can \n",
    "# easily debug the code\n",
    "# - You can easily control the level of loggoing required in the code for e.g you would like to keep better logging for debug nad less logging messages for error\n",
    "# - Logging can be used to file, sockets etc at the same time"
   ]
  },
  {
   "cell_type": "code",
   "execution_count": 34,
   "id": "5c4f1cac",
   "metadata": {},
   "outputs": [],
   "source": [
    "# 9. What are the differences between the Step Over, Step In, and Step Out buttons in the debugger?\n"
   ]
  },
  {
   "cell_type": "code",
   "execution_count": 37,
   "id": "75bfe7cf",
   "metadata": {},
   "outputs": [],
   "source": [
    "# # Step over – An action to take in the debugger that will step over a given line. If the line contains a function \n",
    "# the function will be executed and the result returned without debugging each line.\n",
    "\n",
    "# # Step into – An action to take in the debugger. If the line does not contain a function it behaves the same as \n",
    "# “step over” but if it does the debugger will enter the called function and continue line-by-line debugging there.\n",
    "\n",
    "# # Step out – An action to take in the debugger that returns to the line where the current function was called.\n",
    "\n"
   ]
  },
  {
   "cell_type": "code",
   "execution_count": 38,
   "id": "4702e4fa",
   "metadata": {},
   "outputs": [],
   "source": [
    "# 10.After you click Continue, when will the debugger stop ?\n"
   ]
  },
  {
   "cell_type": "code",
   "execution_count": 39,
   "id": "3857e213",
   "metadata": {},
   "outputs": [],
   "source": [
    "# NO, the debugger will not stop until the breakpoint is reached or the program exits"
   ]
  },
  {
   "cell_type": "code",
   "execution_count": 40,
   "id": "e55ff788",
   "metadata": {},
   "outputs": [],
   "source": [
    "# 11. What is the concept of a breakpoint?"
   ]
  },
  {
   "cell_type": "code",
   "execution_count": 43,
   "id": "73679cc3",
   "metadata": {},
   "outputs": [],
   "source": [
    "# # #  breakpoint() built-in function is a tool that allows developers to set points in code at which a debugger is called.\n",
    "# # Python’s breakpoint() function provides a dynamic, easily customizable, and syntactically simple approach to debugging that uses the default \n",
    "# pdp interactive debugger by default"
   ]
  },
  {
   "cell_type": "code",
   "execution_count": null,
   "id": "8b3143c7",
   "metadata": {},
   "outputs": [],
   "source": []
  }
 ],
 "metadata": {
  "kernelspec": {
   "display_name": "Python 3 (ipykernel)",
   "language": "python",
   "name": "python3"
  },
  "language_info": {
   "codemirror_mode": {
    "name": "ipython",
    "version": 3
   },
   "file_extension": ".py",
   "mimetype": "text/x-python",
   "name": "python",
   "nbconvert_exporter": "python",
   "pygments_lexer": "ipython3",
   "version": "3.9.7"
  }
 },
 "nbformat": 4,
 "nbformat_minor": 5
}
